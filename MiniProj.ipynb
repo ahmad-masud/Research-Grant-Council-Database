{
 "cells": [
  {
   "cell_type": "markdown",
   "id": "49dafa41",
   "metadata": {},
   "source": [
    "# Research Grant Council Database"
   ]
  },
  {
   "cell_type": "markdown",
   "id": "1b3996f5",
   "metadata": {},
   "source": [
    "## ER Diagram\n",
    "![Entity Relationship Diagram](resources/erd.png)"
   ]
  },
  {
   "cell_type": "markdown",
   "id": "9a4a7a9b",
   "metadata": {},
   "source": [
    "## SQL Schema\n",
    "\n",
    "- Researcher = {<span style=\"text-decoration:underline\">researcherID</span>, firstName, lastName, email, institution}\n",
    "- Collaborator = {<span style=\"text-decoration:underline\">collaboratorID</span><span><sup>FK-researcher</sup>, <span style=\"text-decoration:underline\">proposalID</span><span><sup>FK-Proposal</sup>}\n",
    "- Proposal = {<span style=\"text-decoration:underline\">proposalID</span>, requestedAmount, awardedAmount, status, principleInvestigatorID<sup>FK-researcher</sup>, competitionID<sup>FK-competition</sup>}\n",
    "- Review = {<span style=\"text-decoration:underline\">reviewID</span>, status, review, deadline, proposalID<sup>FK-proposal</sup>}\n",
    "- Reviewer = {<span style=\"text-decoration:underline\">reviewerID</span>, firstName, lastName}\n",
    "- Assignment = {<span style=\"text-decoration:underline\">reviewerID</span><span><sup>FK-Reviewer</sup>, <span style=\"text-decoration:underline\">reviewID</span><span><sup>FK-Review</sup>}\n",
    "- Competition = {<span style=\"text-decoration:underline\">competitionID</span>, area, title, deadline, description, status, meetingID<sup>FK-meeting</sup>}\n",
    "- Meeting = {<span style=\"text-decoration:underline\">meetingID</span>, date}"
   ]
  },
  {
   "cell_type": "markdown",
   "id": "31b60c82",
   "metadata": {},
   "source": [
    "## Schema Creation"
   ]
  },
  {
   "cell_type": "markdown",
   "id": "7f59ad0e",
   "metadata": {},
   "source": [
    "### Execute the next two cells"
   ]
  },
  {
   "cell_type": "code",
   "execution_count": 39,
   "id": "ace16202",
   "metadata": {},
   "outputs": [
    {
     "name": "stdout",
     "output_type": "stream",
     "text": [
      "The sql extension is already loaded. To reload it, use:\n",
      "  %reload_ext sql\n"
     ]
    }
   ],
   "source": [
    "%load_ext sql"
   ]
  },
  {
   "cell_type": "code",
   "execution_count": 40,
   "id": "7bd5d817",
   "metadata": {},
   "outputs": [],
   "source": [
    "%sql sqlite:///Research-Grant-Council-Database.db"
   ]
  },
  {
   "cell_type": "markdown",
   "id": "5fec473f",
   "metadata": {},
   "source": [
    "### Queries"
   ]
  },
  {
   "cell_type": "markdown",
   "id": "a55ed965",
   "metadata": {},
   "source": [
    "#### Researcher"
   ]
  },
  {
   "cell_type": "code",
   "execution_count": 41,
   "id": "72bf64eb",
   "metadata": {},
   "outputs": [
    {
     "name": "stdout",
     "output_type": "stream",
     "text": [
      " * sqlite:///Research-Grant-Council-Database.db\n",
      "Done.\n"
     ]
    },
    {
     "data": {
      "text/plain": [
       "[]"
      ]
     },
     "execution_count": 41,
     "metadata": {},
     "output_type": "execute_result"
    }
   ],
   "source": [
    "%%sql\n",
    "\n",
    "CREATE TABLE IF NOT EXISTS Researcher (\n",
    "    researcherID INTEGER PRIMARY KEY,\n",
    "    firstName VARCHAR(20) NOT NULL,\n",
    "    lastName VARCHAR(20) NOT NULL,\n",
    "    email VARCHAR(100) NOT NULL UNIQUE,\n",
    "    institution VARCHAR(100) NOT NULL\n",
    ");"
   ]
  },
  {
   "cell_type": "markdown",
   "id": "83e9f2b8",
   "metadata": {},
   "source": [
    "#### Collaborator"
   ]
  },
  {
   "cell_type": "code",
   "execution_count": 42,
   "id": "7e20f78b",
   "metadata": {},
   "outputs": [
    {
     "name": "stdout",
     "output_type": "stream",
     "text": [
      " * sqlite:///Research-Grant-Council-Database.db\n",
      "Done.\n"
     ]
    },
    {
     "data": {
      "text/plain": [
       "[]"
      ]
     },
     "execution_count": 42,
     "metadata": {},
     "output_type": "execute_result"
    }
   ],
   "source": [
    "%%sql\n",
    "\n",
    "CREATE TABLE IF NOT EXISTS Collaborator (\n",
    "    collaboratorID INTEGER,\n",
    "    proposalID INTEGER,\n",
    "    FOREIGN KEY (collaboratorID) REFERENCES Researcher(researcherID),\n",
    "    FOREIGN KEY (proposalID) REFERENCES Proposal(proposalID),\n",
    "    PRIMARY KEY (collaboratorID, proposalID)\n",
    ");"
   ]
  },
  {
   "cell_type": "markdown",
   "id": "5dca040f",
   "metadata": {},
   "source": [
    "#### Proposal"
   ]
  },
  {
   "cell_type": "code",
   "execution_count": 51,
   "id": "1c49e05b",
   "metadata": {},
   "outputs": [
    {
     "name": "stdout",
     "output_type": "stream",
     "text": [
      " * sqlite:///Research-Grant-Council-Database.db\n",
      "Done.\n"
     ]
    },
    {
     "data": {
      "text/plain": [
       "[]"
      ]
     },
     "execution_count": 51,
     "metadata": {},
     "output_type": "execute_result"
    }
   ],
   "source": [
    "%%sql\n",
    "\n",
    "CREATE TABLE IF NOT EXISTS Proposal (\n",
    "    proposalID INTEGER PRIMARY KEY,\n",
    "    requestedAmount REAL NOT NULL,\n",
    "    awardedAmount REAL,\n",
    "    status VARCHAR(20) NOT NULL CHECK(status IN ('submitted','awarded','not awarded')),\n",
    "    principleInvestigatorID INTEGER,\n",
    "    competitionID INTEGER,\n",
    "    FOREIGN KEY (principleInvestigatorID) REFERENCES Researcher(researcherID),\n",
    "    FOREIGN KEY (competitionID) REFERENCES Competition(competitionID)\n",
    ");"
   ]
  },
  {
   "cell_type": "markdown",
   "id": "a66fac53",
   "metadata": {},
   "source": [
    "#### Review"
   ]
  },
  {
   "cell_type": "code",
   "execution_count": 50,
   "id": "337279fc",
   "metadata": {},
   "outputs": [
    {
     "name": "stdout",
     "output_type": "stream",
     "text": [
      " * sqlite:///Research-Grant-Council-Database.db\n",
      "Done.\n"
     ]
    },
    {
     "data": {
      "text/plain": [
       "[]"
      ]
     },
     "execution_count": 50,
     "metadata": {},
     "output_type": "execute_result"
    }
   ],
   "source": [
    "%%sql\n",
    "\n",
    "CREATE TABLE IF NOT EXISTS Review (\n",
    "    reviewID INTEGER PRIMARY KEY,\n",
    "    status VARCHAR(20) NOT NULL CHECK(status IN ('submitted','not submitted')),\n",
    "    review TEXT,\n",
    "    deadline DATE NOT NULL,\n",
    "    proposalID INTEGER,\n",
    "    FOREIGN KEY (proposalID) REFERENCES Proposal(proposalID)\n",
    ");"
   ]
  },
  {
   "cell_type": "markdown",
   "id": "c02495b2",
   "metadata": {},
   "source": [
    "#### Reviewer"
   ]
  },
  {
   "cell_type": "code",
   "execution_count": 45,
   "id": "d6d72482",
   "metadata": {},
   "outputs": [
    {
     "name": "stdout",
     "output_type": "stream",
     "text": [
      " * sqlite:///Research-Grant-Council-Database.db\n",
      "Done.\n"
     ]
    },
    {
     "data": {
      "text/plain": [
       "[]"
      ]
     },
     "execution_count": 45,
     "metadata": {},
     "output_type": "execute_result"
    }
   ],
   "source": [
    "%%sql\n",
    "\n",
    "CREATE TABLE IF NOT EXISTS Reviewer (\n",
    "    reviewerID INTEGER PRIMARY KEY,\n",
    "    firstName VARCHAR(20) NOT NULL,\n",
    "    lastName VARCHAR(20) NOT NULL\n",
    ");"
   ]
  },
  {
   "cell_type": "markdown",
   "id": "60d968fa",
   "metadata": {},
   "source": [
    "#### Assignment"
   ]
  },
  {
   "cell_type": "code",
   "execution_count": 46,
   "id": "d91c6352",
   "metadata": {},
   "outputs": [
    {
     "name": "stdout",
     "output_type": "stream",
     "text": [
      " * sqlite:///Research-Grant-Council-Database.db\n",
      "Done.\n"
     ]
    },
    {
     "data": {
      "text/plain": [
       "[]"
      ]
     },
     "execution_count": 46,
     "metadata": {},
     "output_type": "execute_result"
    }
   ],
   "source": [
    "%%sql\n",
    "\n",
    "CREATE TABLE IF NOT EXISTS Assignment (\n",
    "    reviewerID INTEGER,\n",
    "    reviewID INTEGER,\n",
    "    FOREIGN KEY (reviewerID) REFERENCES Reviewer(reviewerID),\n",
    "    FOREIGN KEY (reviewID) REFERENCES Review(reviewID),\n",
    "    PRIMARY KEY (reviewerID, reviewIDFK)\n",
    ");"
   ]
  },
  {
   "cell_type": "markdown",
   "id": "80f02a6d",
   "metadata": {},
   "source": [
    "#### Competition"
   ]
  },
  {
   "cell_type": "code",
   "execution_count": 52,
   "id": "9b08c670",
   "metadata": {},
   "outputs": [
    {
     "name": "stdout",
     "output_type": "stream",
     "text": [
      " * sqlite:///Research-Grant-Council-Database.db\n",
      "Done.\n"
     ]
    },
    {
     "data": {
      "text/plain": [
       "[]"
      ]
     },
     "execution_count": 52,
     "metadata": {},
     "output_type": "execute_result"
    }
   ],
   "source": [
    "%%sql\n",
    "\n",
    "CREATE TABLE IF NOT EXISTS Competition (\n",
    "    competitionID INTEGER PRIMARY KEY,\n",
    "    area VARCHAR(50) NOT NULL,\n",
    "    title VARCHAR(100) NOT NULL,\n",
    "    deadline DATE NOT NULL,\n",
    "    description TEXT NOT NULL,\n",
    "    status VARCHAR(20) NOT NULL CHECK(status IN ('open', 'closed')),\n",
    "    meetingID INTEGER,\n",
    "    FOREIGN KEY (meetingID) REFERENCES Meeting(meetingID)\n",
    ");"
   ]
  },
  {
   "cell_type": "markdown",
   "id": "558f9a75",
   "metadata": {},
   "source": [
    "#### Meeting "
   ]
  },
  {
   "cell_type": "code",
   "execution_count": 48,
   "id": "9566aa71",
   "metadata": {},
   "outputs": [
    {
     "name": "stdout",
     "output_type": "stream",
     "text": [
      " * sqlite:///Research-Grant-Council-Database.db\n",
      "Done.\n"
     ]
    },
    {
     "data": {
      "text/plain": [
       "[]"
      ]
     },
     "execution_count": 48,
     "metadata": {},
     "output_type": "execute_result"
    }
   ],
   "source": [
    "%%sql\n",
    "\n",
    "CREATE TABLE IF NOT EXISTS Meeting (\n",
    "    meetingID INTEGER PRIMARY KEY,\n",
    "    date DATE NOT NULL\n",
    ");"
   ]
  }
 ],
 "metadata": {
  "kernelspec": {
   "display_name": "Python 3 (ipykernel)",
   "language": "python",
   "name": "python3"
  },
  "language_info": {
   "codemirror_mode": {
    "name": "ipython",
    "version": 3
   },
   "file_extension": ".py",
   "mimetype": "text/x-python",
   "name": "python",
   "nbconvert_exporter": "python",
   "pygments_lexer": "ipython3",
   "version": "3.11.5"
  }
 },
 "nbformat": 4,
 "nbformat_minor": 5
}
