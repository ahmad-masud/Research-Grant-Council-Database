{
 "cells": [
  {
   "cell_type": "markdown",
   "id": "49dafa41",
   "metadata": {},
   "source": [
    "# Research Grant Council Database"
   ]
  },
  {
   "cell_type": "markdown",
   "id": "1b3996f5",
   "metadata": {},
   "source": [
    "## ER Diagram\n",
    "![ER Diagram](resources/erd.png)"
   ]
  },
  {
   "cell_type": "markdown",
   "id": "9a4a7a9b",
   "metadata": {},
   "source": [
    "## SQL Schema\n",
    "\n",
    "- Researcher = {<span style=\"text-decoration:underline\">researcherID</span>, firstName, lastName, email, institution}\n",
    "- Conflict = {<span style=\"text-decoration:underline\">researcherID</span><sup>FK-Researcher</sup>, <span style=\"text-decoration:underline\">conflicterID</span><sup>FK-Researcher</sup>}\n",
    "- Collaborator = {<span style=\"text-decoration:underline\">collaboratorID</span><span><sup>FK-Researcher</sup>, <span style=\"text-decoration:underline\">proposalID</span><span><sup>FK-Proposal</sup>}\n",
    "- Proposal = {<span style=\"text-decoration:underline\">proposalID</span>, requestedAmount, awardedAmount, status, submissionDate, principleInvestigatorID<sup>FK-Researcher</sup>, competitionID<sup>FK-Competition</sup>}\n",
    "- Review = {<span style=\"text-decoration:underline\">reviewID</span>, status, deadline, proposalID<sup>FK-Proposal</sup>}\n",
    "- Reviewer = {<span style=\"text-decoration:underline\">reviewerID</span>, firstName, lastName, researcherID<sup>FK-Researcher</sup>}\n",
    "- Assignment = {<span style=\"text-decoration:underline\">reviewerID</span><span><sup>FK-Reviewer</sup>, <span style=\"text-decoration:underline\">ReviewID</span><span><sup>FK-Review</sup>}\n",
    "- Competition = {<span style=\"text-decoration:underline\">competitionID</span>, area, title, startDate, deadline, description, status, meetingID<sup>FK-Meeting</sup>}\n",
    "- Meeting = {<span style=\"text-decoration:underline\">MeetingID</span>, date}"
   ]
  },
  {
   "cell_type": "markdown",
   "id": "31b60c82",
   "metadata": {},
   "source": [
    "## Schema Creation"
   ]
  },
  {
   "cell_type": "markdown",
   "id": "7f59ad0e",
   "metadata": {},
   "source": [
    "### Execute the next two cells"
   ]
  },
  {
   "cell_type": "code",
   "execution_count": 1,
   "id": "ace16202",
   "metadata": {},
   "outputs": [],
   "source": [
    "%reload_ext sql"
   ]
  },
  {
   "cell_type": "code",
   "execution_count": 2,
   "id": "7bd5d817",
   "metadata": {},
   "outputs": [],
   "source": [
    "%sql sqlite:///Research-Grant-Council-Database.db"
   ]
  },
  {
   "cell_type": "markdown",
   "id": "5fec473f",
   "metadata": {},
   "source": [
    "### Queries"
   ]
  },
  {
   "cell_type": "markdown",
   "id": "a55ed965",
   "metadata": {},
   "source": [
    "#### Researcher"
   ]
  },
  {
   "cell_type": "code",
   "execution_count": 3,
   "id": "72bf64eb",
   "metadata": {},
   "outputs": [
    {
     "name": "stdout",
     "output_type": "stream",
     "text": [
      " * sqlite:///Research-Grant-Council-Database.db\n",
      "Done.\n"
     ]
    },
    {
     "data": {
      "text/plain": [
       "[]"
      ]
     },
     "execution_count": 3,
     "metadata": {},
     "output_type": "execute_result"
    }
   ],
   "source": [
    "%%sql\n",
    "\n",
    "CREATE TABLE IF NOT EXISTS Researcher (\n",
    "    researcherID INTEGER PRIMARY KEY AUTOINCREMENT,\n",
    "    firstName VARCHAR(20) NOT NULL,\n",
    "    lastName VARCHAR(20) NOT NULL,\n",
    "    email VARCHAR(100) NOT NULL UNIQUE,\n",
    "    institution VARCHAR(100) NOT NULL\n",
    ");"
   ]
  },
  {
   "cell_type": "markdown",
   "id": "5c9259ee",
   "metadata": {},
   "source": [
    "#### Conflict"
   ]
  },
  {
   "cell_type": "code",
   "execution_count": 4,
   "id": "973aa3e1",
   "metadata": {},
   "outputs": [
    {
     "name": "stdout",
     "output_type": "stream",
     "text": [
      " * sqlite:///Research-Grant-Council-Database.db\n",
      "Done.\n"
     ]
    },
    {
     "data": {
      "text/plain": [
       "[]"
      ]
     },
     "execution_count": 4,
     "metadata": {},
     "output_type": "execute_result"
    }
   ],
   "source": [
    "%%sql\n",
    "\n",
    "CREATE TABLE IF NOT EXISTS Conflict (\n",
    "    researcherID INTEGER,\n",
    "    conflicterID INTEGER,\n",
    "    FOREIGN KEY (researcherID) REFERENCES Researcher(researcherID),\n",
    "    FOREIGN KEY (conflicterID) REFERENCES Researcher(researcherID),\n",
    "    PRIMARY KEY (researcherID, conflicterID)\n",
    ");"
   ]
  },
  {
   "cell_type": "markdown",
   "id": "83e9f2b8",
   "metadata": {},
   "source": [
    "#### Collaborator"
   ]
  },
  {
   "cell_type": "code",
   "execution_count": 5,
   "id": "7e20f78b",
   "metadata": {},
   "outputs": [
    {
     "name": "stdout",
     "output_type": "stream",
     "text": [
      " * sqlite:///Research-Grant-Council-Database.db\n",
      "Done.\n"
     ]
    },
    {
     "data": {
      "text/plain": [
       "[]"
      ]
     },
     "execution_count": 5,
     "metadata": {},
     "output_type": "execute_result"
    }
   ],
   "source": [
    "%%sql\n",
    "\n",
    "CREATE TABLE IF NOT EXISTS Collaborator (\n",
    "    collaboratorID INTEGER,\n",
    "    proposalID INTEGER,\n",
    "    FOREIGN KEY (collaboratorID) REFERENCES Researcher(researcherID),\n",
    "    FOREIGN KEY (proposalID) REFERENCES Proposal(proposalID),\n",
    "    PRIMARY KEY (collaboratorID, proposalID)\n",
    ");"
   ]
  },
  {
   "cell_type": "markdown",
   "id": "5dca040f",
   "metadata": {},
   "source": [
    "#### Proposal"
   ]
  },
  {
   "cell_type": "code",
   "execution_count": 6,
   "id": "1c49e05b",
   "metadata": {},
   "outputs": [
    {
     "name": "stdout",
     "output_type": "stream",
     "text": [
      " * sqlite:///Research-Grant-Council-Database.db\n",
      "Done.\n"
     ]
    },
    {
     "data": {
      "text/plain": [
       "[]"
      ]
     },
     "execution_count": 6,
     "metadata": {},
     "output_type": "execute_result"
    }
   ],
   "source": [
    "%%sql\n",
    "\n",
    "CREATE TABLE IF NOT EXISTS Proposal (\n",
    "    proposalID INTEGER PRIMARY KEY AUTOINCREMENT,\n",
    "    requestedAmount REAL NOT NULL,\n",
    "    awardedAmount REAL,\n",
    "    status VARCHAR(20) NOT NULL CHECK(status IN ('submitted','awarded','not awarded')),\n",
    "    submissionDate DATE,\n",
    "    principleInvestigatorID INTEGER NOT NULL,\n",
    "    competitionID INTEGER,\n",
    "    FOREIGN KEY (principleInvestigatorID) REFERENCES Researcher(researcherID),\n",
    "    FOREIGN KEY (competitionID) REFERENCES Competition(competitionID)\n",
    ");"
   ]
  },
  {
   "cell_type": "markdown",
   "id": "a66fac53",
   "metadata": {},
   "source": [
    "#### Review"
   ]
  },
  {
   "cell_type": "code",
   "execution_count": 7,
   "id": "337279fc",
   "metadata": {},
   "outputs": [
    {
     "name": "stdout",
     "output_type": "stream",
     "text": [
      " * sqlite:///Research-Grant-Council-Database.db\n",
      "Done.\n"
     ]
    },
    {
     "data": {
      "text/plain": [
       "[]"
      ]
     },
     "execution_count": 7,
     "metadata": {},
     "output_type": "execute_result"
    }
   ],
   "source": [
    "%%sql\n",
    "\n",
    "CREATE TABLE IF NOT EXISTS Review (\n",
    "    reviewID INTEGER PRIMARY KEY AUTOINCREMENT,\n",
    "    status VARCHAR(20) NOT NULL CHECK(status IN ('submitted','not submitted')),\n",
    "    deadline DATE NOT NULL,\n",
    "    proposalID INTEGER,\n",
    "    FOREIGN KEY (proposalID) REFERENCES Proposal(proposalID)\n",
    ");"
   ]
  },
  {
   "cell_type": "markdown",
   "id": "c02495b2",
   "metadata": {},
   "source": [
    "#### Reviewer"
   ]
  },
  {
   "cell_type": "code",
   "execution_count": 8,
   "id": "d6d72482",
   "metadata": {},
   "outputs": [
    {
     "name": "stdout",
     "output_type": "stream",
     "text": [
      " * sqlite:///Research-Grant-Council-Database.db\n",
      "Done.\n"
     ]
    },
    {
     "data": {
      "text/plain": [
       "[]"
      ]
     },
     "execution_count": 8,
     "metadata": {},
     "output_type": "execute_result"
    }
   ],
   "source": [
    "%%sql\n",
    "\n",
    "CREATE TABLE IF NOT EXISTS Reviewer (\n",
    "    reviewerID INTEGER PRIMARY KEY AUTOINCREMENT,\n",
    "    firstName VARCHAR(20) NOT NULL,\n",
    "    lastName VARCHAR(20) NOT NULL,\n",
    "    researcherID INTEGER,\n",
    "    FOREIGN KEY (researcherID) REFERENCES Researcher(researcherID)\n",
    ");"
   ]
  },
  {
   "cell_type": "markdown",
   "id": "60d968fa",
   "metadata": {},
   "source": [
    "#### Assignment"
   ]
  },
  {
   "cell_type": "code",
   "execution_count": 9,
   "id": "d91c6352",
   "metadata": {},
   "outputs": [
    {
     "name": "stdout",
     "output_type": "stream",
     "text": [
      " * sqlite:///Research-Grant-Council-Database.db\n",
      "Done.\n"
     ]
    },
    {
     "data": {
      "text/plain": [
       "[]"
      ]
     },
     "execution_count": 9,
     "metadata": {},
     "output_type": "execute_result"
    }
   ],
   "source": [
    "%%sql\n",
    "\n",
    "CREATE TABLE IF NOT EXISTS Assignment (\n",
    "    reviewerID INTEGER,\n",
    "    reviewID INTEGER,\n",
    "    FOREIGN KEY (reviewerID) REFERENCES Reviewer(reviewerID),\n",
    "    FOREIGN KEY (reviewID) REFERENCES Review(reviewID),\n",
    "    PRIMARY KEY (reviewerID, reviewID)\n",
    ");"
   ]
  },
  {
   "cell_type": "markdown",
   "id": "80f02a6d",
   "metadata": {},
   "source": [
    "#### Competition"
   ]
  },
  {
   "cell_type": "code",
   "execution_count": 10,
   "id": "9b08c670",
   "metadata": {},
   "outputs": [
    {
     "name": "stdout",
     "output_type": "stream",
     "text": [
      " * sqlite:///Research-Grant-Council-Database.db\n",
      "Done.\n"
     ]
    },
    {
     "data": {
      "text/plain": [
       "[]"
      ]
     },
     "execution_count": 10,
     "metadata": {},
     "output_type": "execute_result"
    }
   ],
   "source": [
    "%%sql\n",
    "\n",
    "CREATE TABLE IF NOT EXISTS Competition (\n",
    "    competitionID INTEGER PRIMARY KEY AUTOINCREMENT,\n",
    "    area VARCHAR(50) NOT NULL,\n",
    "    title VARCHAR(100) NOT NULL,\n",
    "    startDATE DATE NOT NULL,\n",
    "    deadline DATE NOT NULL,\n",
    "    description TEXT NOT NULL,\n",
    "    status VARCHAR(20) NOT NULL CHECK(status IN ('open', 'closed')),\n",
    "    meetingID INTEGER,\n",
    "    FOREIGN KEY (meetingID) REFERENCES Meeting(meetingID)\n",
    ");"
   ]
  },
  {
   "cell_type": "markdown",
   "id": "558f9a75",
   "metadata": {},
   "source": [
    "#### Meeting "
   ]
  },
  {
   "cell_type": "code",
   "execution_count": 11,
   "id": "9566aa71",
   "metadata": {},
   "outputs": [
    {
     "name": "stdout",
     "output_type": "stream",
     "text": [
      " * sqlite:///Research-Grant-Council-Database.db\n",
      "Done.\n"
     ]
    },
    {
     "data": {
      "text/plain": [
       "[]"
      ]
     },
     "execution_count": 11,
     "metadata": {},
     "output_type": "execute_result"
    }
   ],
   "source": [
    "%%sql\n",
    "\n",
    "CREATE TABLE IF NOT EXISTS Meeting (\n",
    "    meetingID INTEGER PRIMARY KEY AUTOINCREMENT,\n",
    "    date DATE NOT NULL\n",
    ");"
   ]
  },
  {
   "cell_type": "markdown",
   "id": "580e5e2f",
   "metadata": {},
   "source": [
    "## Populate Tables"
   ]
  },
  {
   "cell_type": "markdown",
   "id": "2a922f07",
   "metadata": {},
   "source": [
    "### Queries"
   ]
  },
  {
   "cell_type": "markdown",
   "id": "5fa3ae74",
   "metadata": {},
   "source": [
    "#### Researcher"
   ]
  },
  {
   "cell_type": "code",
   "execution_count": 12,
   "id": "7666a3d1",
   "metadata": {},
   "outputs": [
    {
     "name": "stdout",
     "output_type": "stream",
     "text": [
      " * sqlite:///Research-Grant-Council-Database.db\n",
      "22 rows affected.\n"
     ]
    },
    {
     "data": {
      "text/plain": [
       "[]"
      ]
     },
     "execution_count": 12,
     "metadata": {},
     "output_type": "execute_result"
    }
   ],
   "source": [
    "%%sql\n",
    "\n",
    "INSERT INTO Researcher (firstName, lastName, email, institution) VALUES \n",
    "(\"Stacy\", \"Berman\", \"jovan.hetting@hotmail.com\", \"University of California, Los Angeles\"), \n",
    "(\"Dennis\", \"Vall\", \"mabel1987@yahoo.ca\", \"University Texas Austin\"),\n",
    "(\"Mary\", \"Jones\", \"greta19962017@gmail.com\", \"University of Oklahoma\"),\n",
    "(\"Patsy\", \"Chisholm\", \"PatsyLChisholm@teleworm.us\", \"University of Washington\"),\n",
    "(\"Caroline\", \"Campunzano\", \"andreanne1993@hotmail.com\", \"University of Oregon\"),\n",
    "(\"Everett\", \"Victor\", \"arjun2003@hotmail.com\", \"University of Pennsylvania\"),\n",
    "(\"Deborah\",\" Butea\", \"chase.schul@gmail.com\", \"Princeton University\"),\n",
    "(\"Sid\", \"Jewell\", \"wilhelm1990@hotmail.com\", \"Harvard University\"),\n",
    "(\"Marueen\", \"Miles\", \"karelle.muell@yahoo.com\", \"Standford Universty\"),\n",
    "(\"Walter\", \"Nightingale\", \"clark1996@yahoo.com\", \"Massachusetts Institute of Technology\"),\n",
    "(\"Randolph\", \"Gibson\", \"sonia_nikola@hotmail.com\", \"Yale University\"),\n",
    "(\"Josh\", \"Peters\", \"joshpeters13@hotmail.com\", \"McGill University\"),\n",
    "(\"Karen\", \"Rogers\", \"karenrogers7653@gmail.com\", \"University of British Columbia\"),\n",
    "(\"Peggy\", \"Letson\", \"peggyletson19@gmail.com\", \"University of Toronto\"),\n",
    "(\"Lanson\", \"Wong\", \"lansonwong43@gmail.com\", \"University of Alberta\"),\n",
    "(\"Wilson\", \"Yung\", \"wilsonyung4930@hotmail.com\", \"University of Waterloo\"),\n",
    "(\"Anson\", \"Chow\", \"ansonchow3941@gmail.com\", \"University of Saskatchewan\"),\n",
    "(\"Cayden\", \"Leong\", \"caydenleong74@yahoo.com\", \"University of Ottawa\"),\n",
    "(\"Miriam\", \"Kim\", \"miriamkim2341@gmail.com\", \"University of Guelph\"),\n",
    "(\"Jeff\", \"Lu\", \"jefflu123@gmail.com\", \"University of California San Diego\"),\n",
    "(\"Sunny\",\"Ho\",\"sunnyho29@yahoo.com\", \"California State University\"),\n",
    "(\"Lyndia\",\"Hero\",\"lyndiahero064@hotmail.com\", \"Simon Fraser University\")"
   ]
  },
  {
   "cell_type": "markdown",
   "id": "5bb4ad68",
   "metadata": {},
   "source": [
    "#### Conflict"
   ]
  },
  {
   "cell_type": "code",
   "execution_count": 21,
   "id": "0a9906ed",
   "metadata": {},
   "outputs": [
    {
     "name": "stdout",
     "output_type": "stream",
     "text": [
      " * sqlite:///Research-Grant-Council-Database.db\n",
      "10 rows affected.\n"
     ]
    },
    {
     "data": {
      "text/plain": [
       "[]"
      ]
     },
     "execution_count": 21,
     "metadata": {},
     "output_type": "execute_result"
    }
   ],
   "source": [
    "%%sql\n",
    "\n",
    "INSERT INTO Conflict (researcherID, conflicterID) VALUES\n",
    "(1, 2),\n",
    "(3, 4),\n",
    "(5, 6),\n",
    "(7, 8),\n",
    "(9, 10),\n",
    "(11, 12),\n",
    "(13, 14),\n",
    "(15, 16),\n",
    "(17, 18),\n",
    "(19, 20);"
   ]
  },
  {
   "cell_type": "markdown",
   "id": "7a7535ad",
   "metadata": {},
   "source": [
    "#### Collaborator"
   ]
  },
  {
   "cell_type": "code",
   "execution_count": 13,
   "id": "4a1749f2",
   "metadata": {},
   "outputs": [
    {
     "name": "stdout",
     "output_type": "stream",
     "text": [
      " * sqlite:///Research-Grant-Council-Database.db\n",
      "15 rows affected.\n"
     ]
    },
    {
     "data": {
      "text/plain": [
       "[]"
      ]
     },
     "execution_count": 13,
     "metadata": {},
     "output_type": "execute_result"
    }
   ],
   "source": [
    "%%sql\n",
    "\n",
    "INSERT INTO Collaborator (collaboratorID, proposalID) VALUES\n",
    "(1, 1),\n",
    "(2, 1),\n",
    "(3, 2),\n",
    "(4, 2),\n",
    "(5, 3),\n",
    "(6, 3),\n",
    "(7, 1),\n",
    "(8, 2),\n",
    "(9, 3),\n",
    "(10, 1),\n",
    "(11, 2),\n",
    "(12, 3),\n",
    "(13, 1),\n",
    "(14, 2),\n",
    "(15, 3);"
   ]
  },
  {
   "cell_type": "markdown",
   "id": "85e08ab0",
   "metadata": {},
   "source": [
    "#### Proposal"
   ]
  },
  {
   "cell_type": "code",
   "execution_count": 14,
   "id": "13aab8ad",
   "metadata": {},
   "outputs": [
    {
     "name": "stdout",
     "output_type": "stream",
     "text": [
      " * sqlite:///Research-Grant-Council-Database.db\n",
      "22 rows affected.\n"
     ]
    },
    {
     "data": {
      "text/plain": [
       "[]"
      ]
     },
     "execution_count": 14,
     "metadata": {},
     "output_type": "execute_result"
    }
   ],
   "source": [
    "%%sql\n",
    "\n",
    "INSERT INTO Proposal (requestedAmount, awardedAmount, status, submissionDate, principleInvestigatorID, competitionID) VALUES \n",
    "(5000, 5000, 'awarded', '2024-03-16', 1, 1),\n",
    "(15000, 10000, 'awarded', '2024-03-16', 2, 1),\n",
    "(2500, 1000, 'awarded', '2024-04-23', 3, 2),\n",
    "(25000, 25000, 'awarded', '2024-04-23', 4, 2),\n",
    "(1500, 2500, 'awarded', '2024-05-26', 5, 3),\n",
    "(10000, 5000, 'awarded', '2024-05-26', 6, 3),\n",
    "(10000, 10000, 'awarded', '2024-06-28', 7, 4),\n",
    "(5000, 0, 'not awarded', '2024-06-28', 17, 4),\n",
    "(17000, 0, 'not awarded', '2024-06-28', 18, 4),\n",
    "(7000, 0, 'submitted', '2024-08-01', 8, 5),\n",
    "(10000, 10000, 'awarded', '2024-08-01', 19, 5),\n",
    "(17500, 0, 'not awarded', '2024-08-01', 20, 5),\n",
    "(5000, 0, 'not awarded', '2024-09-01', 9, 6),\n",
    "(15000, 10000, 'awarded', '2024-09-01', 21, 6),\n",
    "(30000, 0, 'not awarded', '2024-10-08', 10, 7),\n",
    "(10000, 0, 'submitted', '2024-10-08', 11, 7),\n",
    "(15000, 5000, 'awarded', '2024-11-05', 12, 8),\n",
    "(5000, 0, 'not awarded', '2024-11-05', 13, 8),\n",
    "(2500, 2500, 'awarded', '2024-12-03', 14, 9),\n",
    "(20000, 10000, 'awarded', '2024-12-03', 15, 9),\n",
    "(18500, 15000, 'awarded', '2025-01-08', 16, 10),\n",
    "(12500, 0, 'not awarded', '2025-01-08', 22, 10);"
   ]
  },
  {
   "cell_type": "markdown",
   "id": "f772d92d",
   "metadata": {},
   "source": [
    "#### Review"
   ]
  },
  {
   "cell_type": "code",
   "execution_count": 15,
   "id": "41e34de4",
   "metadata": {},
   "outputs": [
    {
     "name": "stdout",
     "output_type": "stream",
     "text": [
      " * sqlite:///Research-Grant-Council-Database.db\n",
      "10 rows affected.\n"
     ]
    },
    {
     "data": {
      "text/plain": [
       "[]"
      ]
     },
     "execution_count": 15,
     "metadata": {},
     "output_type": "execute_result"
    }
   ],
   "source": [
    "%%sql\n",
    "\n",
    "INSERT INTO Review (status, deadline, proposalID) VALUES\n",
    "('not submitted', '2023-10-30', 1),\n",
    "('submitted', '2023-05-23', 2),\n",
    "('submitted', '2023-07-01', 3),\n",
    "('submitted', '2023-01-31', 4),\n",
    "('not submitted', '2023-04-15', 5),\n",
    "('not submitted', '2023-08-18', 6),\n",
    "('submitted', '2023-02-17', 7),\n",
    "('not submitted', '2023-01-08', 8),\n",
    "('submitted', '2023-03-12', 9),\n",
    "('not submitted', '2023-03-19', 10);"
   ]
  },
  {
   "cell_type": "markdown",
   "id": "fd94cb15",
   "metadata": {},
   "source": [
    "#### Reviewer "
   ]
  },
  {
   "cell_type": "code",
   "execution_count": 16,
   "id": "4180a456",
   "metadata": {},
   "outputs": [
    {
     "name": "stdout",
     "output_type": "stream",
     "text": [
      " * sqlite:///Research-Grant-Council-Database.db\n",
      "22 rows affected.\n"
     ]
    },
    {
     "data": {
      "text/plain": [
       "[]"
      ]
     },
     "execution_count": 16,
     "metadata": {},
     "output_type": "execute_result"
    }
   ],
   "source": [
    "%%sql\n",
    "\n",
    "INSERT INTO Reviewer (firstName, lastName, researcherID) VALUES\n",
    "(\"Hayden\", \"Shen\", NULL),\n",
    "(\"Jonathan\", \"Yang\", NULL),\n",
    "(\"Alan\", \"Poy\", NULL),\n",
    "(\"John\", \"Wang\", NULL),\n",
    "(\"Hassan\", \"Mohammad\", NULL),\n",
    "(\"Kathy\", \"Means\", NULL),\n",
    "(\"Tammy\", \"Smith\", NULL),\n",
    "(\"Timothy\", \"Grube\", NULL),\n",
    "(\"Beverly\", \"Clark\", NULL),\n",
    "(\"Peter\", \"Snider\", NULL),\n",
    "(\"Bonnie\", \"Watkins\", NULL),\n",
    "(\"Charles\", \"McNeal\", NULL),\n",
    "(\"Jacky\", \"Tran\", NULL),\n",
    "(\"Jones\", \"Flemming\", NULL),\n",
    "(\"Frank\", \"Smith\", NULL),\n",
    "(\"Harold\", \"Jenkins\", NULL),\n",
    "(\"Belbert\", \"Springer\", NULL),\n",
    "(\"Alisa\", \"Hunter\", NULL),\n",
    "(\"Dianne\", \"Johnson\", NULL),\n",
    "(\"Damon\", \"Green\", NULL),\n",
    "(\"Anson\", \"Chow\", 17),\n",
    "(\"Josh\", \"Peters\", 12);"
   ]
  },
  {
   "cell_type": "markdown",
   "id": "88dda992",
   "metadata": {},
   "source": [
    "#### Assignment "
   ]
  },
  {
   "cell_type": "code",
   "execution_count": 17,
   "id": "2df779c2",
   "metadata": {},
   "outputs": [
    {
     "name": "stdout",
     "output_type": "stream",
     "text": [
      " * sqlite:///Research-Grant-Council-Database.db\n",
      "22 rows affected.\n"
     ]
    },
    {
     "data": {
      "text/plain": [
       "[]"
      ]
     },
     "execution_count": 17,
     "metadata": {},
     "output_type": "execute_result"
    }
   ],
   "source": [
    "%%sql\n",
    "\n",
    "INSERT INTO Assignment (reviewerID, reviewID) VALUES\n",
    "(1, 1), (2, 1), (3, 1), (4, 2), (5, 2), (6, 3), (7, 4), (8, 4), (9, 5), (10, 5), (11, 5), (12, 6), (13, 6), (14, 6), (15, 7), (16, 8), (17, 8),\n",
    "(18, 8), (19, 9), (20, 10), (21, 10), (22, 10);"
   ]
  },
  {
   "cell_type": "markdown",
   "id": "50363c93",
   "metadata": {},
   "source": [
    "#### Competition"
   ]
  },
  {
   "cell_type": "code",
   "execution_count": 18,
   "id": "cb442e4a",
   "metadata": {},
   "outputs": [
    {
     "name": "stdout",
     "output_type": "stream",
     "text": [
      " * sqlite:///Research-Grant-Council-Database.db\n",
      "10 rows affected.\n"
     ]
    },
    {
     "data": {
      "text/plain": [
       "[]"
      ]
     },
     "execution_count": 18,
     "metadata": {},
     "output_type": "execute_result"
    }
   ],
   "source": [
    "%%sql\n",
    "\n",
    "INSERT INTO Competition (area, title, startDate, deadline, description, status, meetingID) VALUES\n",
    "('Computer Science', 'AI Frontiers', '2024-03-01', '2024-04-30', 'Exploring the frontiers of artificial intelligence and machine learning.', 'open', 1),\n",
    "('Renewable Energy', 'Solar Power Innovations', '2024-04-01', '2024-05-15', 'Innovative solutions in solar energy technology.', 'open', 2),\n",
    "('Biotechnology', 'Genetic Engineering Breakthroughs', '2024-05-01', '2024-06-20', 'Breakthroughs in genetic engineering and its applications.', 'closed', 3),\n",
    "('Quantum Computing', 'Quantum Algorithms', '2024-06-01', '2024-07-25', 'Developing new algorithms for quantum computing.', 'open', 4),\n",
    "('Cybersecurity', 'Next-Gen Cybersecurity Solutions', '2024-07-01', '2024-08-30', 'Advancements in protecting against cyber threats.', 'open', 5),\n",
    "('Space Exploration', 'Mars Habitat Design', '2024-08-01', '2024-09-30', 'Designing sustainable habitats for Mars.', 'open', 6),\n",
    "('Automotive Innovation', 'Electric Vehicle Enhancements', '2024-09-01', '2024-10-15', 'Enhancements and innovations in electric vehicles.', 'closed', 7),\n",
    "('Environmental Science', 'Ocean Cleanup Projects', '2024-10-01', '2024-11-10', 'Innovative projects focused on cleaning the oceans.', 'open', 8),\n",
    "('Medical Research', 'Cancer Treatment Innovations', '2024-11-01', '2024-12-05', 'Novel approaches to cancer treatment.', 'open', 9),\n",
    "('Artificial Intelligence', 'AI Ethics', '2024-12-01', '2025-01-15', 'Addressing ethical concerns in AI development.', 'closed', 10);"
   ]
  },
  {
   "cell_type": "markdown",
   "id": "df661d5a",
   "metadata": {},
   "source": [
    "#### Meeting"
   ]
  },
  {
   "cell_type": "code",
   "execution_count": 19,
   "id": "c372b375",
   "metadata": {},
   "outputs": [
    {
     "name": "stdout",
     "output_type": "stream",
     "text": [
      " * sqlite:///Research-Grant-Council-Database.db\n",
      "10 rows affected.\n"
     ]
    },
    {
     "data": {
      "text/plain": [
       "[]"
      ]
     },
     "execution_count": 19,
     "metadata": {},
     "output_type": "execute_result"
    }
   ],
   "source": [
    "%%sql\n",
    "\n",
    "INSERT INTO Meeting (date) VALUES\n",
    "(\"2024-01-01\"),\n",
    "(\"2024-01-21\"),\n",
    "(\"2024-01-13\"),\n",
    "(\"2024-02-18\"),\n",
    "(\"2024-01-03\"),\n",
    "(\"2024-03-03\"),\n",
    "(\"2024-01-24\"),\n",
    "(\"2023-12-30\"),\n",
    "(\"2023-11-02\"),\n",
    "(\"2023-10-07\");"
   ]
  },
  {
   "cell_type": "code",
   "execution_count": 25,
   "id": "ad6a8f5e",
   "metadata": {},
   "outputs": [
    {
     "name": "stdout",
     "output_type": "stream",
     "text": [
      " * sqlite:///Research-Grant-Council-Database.db\n",
      "(sqlite3.OperationalError) no such column: R.reviewerID\n",
      "[SQL: SELECT R.reviewerID, COUNT(RV.proposalID) AS NumberOfReviews\n",
      "FROM Review RV\n",
      "JOIN Proposal P ON RV.proposalID = P.proposalID\n",
      "JOIN Researcher R ON P.principleInvestigatorID = R.researcherID\n",
      "LEFT JOIN Collaborator C ON P.proposalID = C.proposalID\n",
      "LEFT JOIN Conflict CF ON R.researcherID = CF.researcherID AND C.researcherID = CF.conflicterID\n",
      "WHERE RV.status = 'not submitted'\n",
      "  AND (CF.conflicterID IS NULL OR R.reviewerID IS NULL)\n",
      "GROUP BY R.reviewerID\n",
      "HAVING COUNT(RV.proposalID) < 3;]\n",
      "(Background on this error at: https://sqlalche.me/e/20/e3q8)\n"
     ]
    }
   ],
   "source": [
    "%%sql\n",
    "\n",
    "SELECT R.reviewerID, COUNT(RV.proposalID) AS NumberOfReviews\n",
    "FROM Review RV\n",
    "JOIN Proposal P ON RV.proposalID = P.proposalID\n",
    "JOIN Researcher R ON P.principleInvestigatorID = R.researcherID\n",
    "LEFT JOIN Collaborator C ON P.proposalID = C.proposalID\n",
    "LEFT JOIN Conflict CF ON R.researcherID = CF.researcherID AND C.researcherID = CF.conflicterID\n",
    "WHERE RV.status = 'not submitted'\n",
    "  AND (CF.conflicterID IS NULL OR R.reviewerID IS NULL)\n",
    "GROUP BY R.reviewerID\n",
    "HAVING COUNT(RV.proposalID) < 3;"
   ]
  },
  {
   "cell_type": "code",
   "execution_count": null,
   "id": "89cf0339",
   "metadata": {},
   "outputs": [],
   "source": []
  }
 ],
 "metadata": {
  "kernelspec": {
   "display_name": "Python 3 (ipykernel)",
   "language": "python",
   "name": "python3"
  },
  "language_info": {
   "codemirror_mode": {
    "name": "ipython",
    "version": 3
   },
   "file_extension": ".py",
   "mimetype": "text/x-python",
   "name": "python",
   "nbconvert_exporter": "python",
   "pygments_lexer": "ipython3",
   "version": "3.11.5"
  },
  "vscode": {
   "interpreter": {
    "hash": "31f2aee4e71d21fbe5cf8b01ff0e069b9275f58929596ceb00d14d90e3e16cd6"
   }
  }
 },
 "nbformat": 4,
 "nbformat_minor": 5
}
