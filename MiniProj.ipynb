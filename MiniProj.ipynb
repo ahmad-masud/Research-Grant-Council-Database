{
 "cells": [
  {
   "cell_type": "markdown",
   "id": "49dafa41",
   "metadata": {},
   "source": [
    "# Research Grant Council Database"
   ]
  },
  {
   "cell_type": "markdown",
   "id": "1b3996f5",
   "metadata": {},
   "source": [
    "## ER Diagram\n",
    "![Entity Relationship Diagram](resources/erd.png)"
   ]
  },
  {
   "cell_type": "markdown",
   "id": "9a4a7a9b",
   "metadata": {},
   "source": [
    "## SQL Schema\n",
    "\n",
    "- Researcher = {<span style=\"text-decoration:underline\">researcherID</span>, firstName, lastName, email, institution}\n",
    "- Collaborator = {<span style=\"text-decoration:underline\">collaboratorID</span><span><sup>FK-Researcher</sup>, <span style=\"text-decoration:underline\">proposalID</span><span><sup>FK-Proposal</sup>}\n",
    "- Proposal = {<span style=\"text-decoration:underline\">proposalID</span>, requestedAmount, awardedAmount, status, principleInvestigatorID<sup>FK-Researcher</sup>, competitionID<sup>FK-Competition</sup>}\n",
    "- Review = {<span style=\"text-decoration:underline\">reviewID</span>, status, review, deadline, proposalID<sup>FK-Proposal</sup>}\n",
    "- Reviewer = {<span style=\"text-decoration:underline\">reviewerID</span>, firstName, lastName}\n",
    "- Assignment = {<span style=\"text-decoration:underline\">reviewerID</span><span><sup>FK-Reviewer</sup>, <span style=\"text-decoration:underline\">ReviewID</span><span><sup>FK-Review</sup>}\n",
    "- Competition = {<span style=\"text-decoration:underline\">competitionID</span>, area, title, deadline, description, status, meetingID<sup>FK-Meeting</sup>}\n",
    "- Meeting = {<span style=\"text-decoration:underline\">MeetingID</span>, date}"
   ]
  },
  {
   "cell_type": "markdown",
   "id": "31b60c82",
   "metadata": {},
   "source": [
    "## Schema Creation"
   ]
  },
  {
   "cell_type": "markdown",
   "id": "7f59ad0e",
   "metadata": {},
   "source": [
    "### Execute the next two cells"
   ]
  },
  {
   "cell_type": "code",
   "execution_count": 1,
   "id": "ace16202",
   "metadata": {},
   "outputs": [],
   "source": [
    "%reload_ext sql"
   ]
  },
  {
   "cell_type": "code",
   "execution_count": 2,
   "id": "7bd5d817",
   "metadata": {},
   "outputs": [
    {
     "data": {
      "text/plain": [
       "'Connected: @Research-Grant-Council-Database.db'"
      ]
     },
     "execution_count": 2,
     "metadata": {},
     "output_type": "execute_result"
    }
   ],
   "source": [
    "%sql sqlite:///Research-Grant-Council-Database.db"
   ]
  },
  {
   "cell_type": "markdown",
   "id": "5fec473f",
   "metadata": {},
   "source": [
    "### Queries"
   ]
  },
  {
   "cell_type": "markdown",
   "id": "a55ed965",
   "metadata": {},
   "source": [
    "#### Researcher"
   ]
  },
  {
   "cell_type": "code",
   "execution_count": 3,
   "id": "72bf64eb",
   "metadata": {},
   "outputs": [
    {
     "name": "stdout",
     "output_type": "stream",
     "text": [
      " * sqlite:///Research-Grant-Council-Database.db\n",
      "Done.\n"
     ]
    },
    {
     "data": {
      "text/plain": [
       "[]"
      ]
     },
     "execution_count": 3,
     "metadata": {},
     "output_type": "execute_result"
    }
   ],
   "source": [
    "%%sql\n",
    "\n",
    "CREATE TABLE IF NOT EXISTS Researcher (\n",
    "    researcherID INTEGER PRIMARY KEY,\n",
    "    firstName VARCHAR(20) NOT NULL,\n",
    "    lastName VARCHAR(20) NOT NULL,\n",
    "    email VARCHAR(100) NOT NULL UNIQUE,\n",
    "    institution VARCHAR(100) NOT NULL\n",
    ");"
   ]
  },
  {
   "cell_type": "markdown",
   "id": "83e9f2b8",
   "metadata": {},
   "source": [
    "#### Collaborator"
   ]
  },
  {
   "cell_type": "code",
   "execution_count": 4,
   "id": "7e20f78b",
   "metadata": {},
   "outputs": [
    {
     "name": "stdout",
     "output_type": "stream",
     "text": [
      " * sqlite:///Research-Grant-Council-Database.db\n",
      "Done.\n"
     ]
    },
    {
     "data": {
      "text/plain": [
       "[]"
      ]
     },
     "execution_count": 4,
     "metadata": {},
     "output_type": "execute_result"
    }
   ],
   "source": [
    "%%sql\n",
    "\n",
    "CREATE TABLE IF NOT EXISTS Collaborator (\n",
    "    collaboratorID INTEGER,\n",
    "    proposalID INTEGER,\n",
    "    FOREIGN KEY (collaboratorID) REFERENCES Researcher(researcherID),\n",
    "    FOREIGN KEY (proposalID) REFERENCES Proposal(proposalID),\n",
    "    PRIMARY KEY (collaboratorID, proposalID)\n",
    ");"
   ]
  },
  {
   "cell_type": "markdown",
   "id": "5dca040f",
   "metadata": {},
   "source": [
    "#### Proposal"
   ]
  },
  {
   "cell_type": "code",
   "execution_count": 5,
   "id": "1c49e05b",
   "metadata": {},
   "outputs": [
    {
     "name": "stdout",
     "output_type": "stream",
     "text": [
      " * sqlite:///Research-Grant-Council-Database.db\n",
      "Done.\n"
     ]
    },
    {
     "data": {
      "text/plain": [
       "[]"
      ]
     },
     "execution_count": 5,
     "metadata": {},
     "output_type": "execute_result"
    }
   ],
   "source": [
    "%%sql\n",
    "\n",
    "CREATE TABLE IF NOT EXISTS Proposal (\n",
    "    proposalID INTEGER PRIMARY KEY,\n",
    "    requestedAmount REAL NOT NULL,\n",
    "    awardedAmount REAL,\n",
    "    status VARCHAR(20) NOT NULL CHECK(status IN ('submitted','awarded','not awarded')),\n",
    "    principleInvestigatorID INTEGER,\n",
    "    competitionID INTEGER,\n",
    "    FOREIGN KEY (principleInvestigatorID) REFERENCES Researcher(researcherID),\n",
    "    FOREIGN KEY (competitionID) REFERENCES Competition(competitionID)\n",
    ");"
   ]
  },
  {
   "cell_type": "markdown",
   "id": "a66fac53",
   "metadata": {},
   "source": [
    "#### Review"
   ]
  },
  {
   "cell_type": "code",
   "execution_count": 6,
   "id": "337279fc",
   "metadata": {},
   "outputs": [
    {
     "name": "stdout",
     "output_type": "stream",
     "text": [
      " * sqlite:///Research-Grant-Council-Database.db\n",
      "Done.\n"
     ]
    },
    {
     "data": {
      "text/plain": [
       "[]"
      ]
     },
     "execution_count": 6,
     "metadata": {},
     "output_type": "execute_result"
    }
   ],
   "source": [
    "%%sql\n",
    "\n",
    "CREATE TABLE IF NOT EXISTS Review (\n",
    "    reviewID INTEGER PRIMARY KEY,\n",
    "    status VARCHAR(20) NOT NULL CHECK(status IN ('submitted','not submitted')),\n",
    "    review TEXT,\n",
    "    deadline DATE NOT NULL,\n",
    "    proposalID INTEGER,\n",
    "    FOREIGN KEY (proposalID) REFERENCES Proposal(proposalID)\n",
    ");"
   ]
  },
  {
   "cell_type": "markdown",
   "id": "c02495b2",
   "metadata": {},
   "source": [
    "#### Reviewer"
   ]
  },
  {
   "cell_type": "code",
   "execution_count": 7,
   "id": "d6d72482",
   "metadata": {},
   "outputs": [
    {
     "name": "stdout",
     "output_type": "stream",
     "text": [
      " * sqlite:///Research-Grant-Council-Database.db\n",
      "Done.\n"
     ]
    },
    {
     "data": {
      "text/plain": [
       "[]"
      ]
     },
     "execution_count": 7,
     "metadata": {},
     "output_type": "execute_result"
    }
   ],
   "source": [
    "%%sql\n",
    "\n",
    "CREATE TABLE IF NOT EXISTS Reviewer (\n",
    "    reviewerID INTEGER PRIMARY KEY,\n",
    "    firstName VARCHAR(20) NOT NULL,\n",
    "    lastName VARCHAR(20) NOT NULL\n",
    ");"
   ]
  },
  {
   "cell_type": "markdown",
   "id": "60d968fa",
   "metadata": {},
   "source": [
    "#### Assignment"
   ]
  },
  {
   "cell_type": "code",
   "execution_count": 9,
   "id": "d91c6352",
   "metadata": {},
   "outputs": [
    {
     "name": "stdout",
     "output_type": "stream",
     "text": [
      " * sqlite:///Research-Grant-Council-Database.db\n",
      "Done.\n"
     ]
    },
    {
     "data": {
      "text/plain": [
       "[]"
      ]
     },
     "execution_count": 9,
     "metadata": {},
     "output_type": "execute_result"
    }
   ],
   "source": [
    "%%sql\n",
    "\n",
    "CREATE TABLE IF NOT EXISTS Assignment (\n",
    "    reviewerID INTEGER,\n",
    "    reviewID INTEGER,\n",
    "    FOREIGN KEY (reviewerID) REFERENCES Reviewer(reviewerID),\n",
    "    FOREIGN KEY (reviewID) REFERENCES Review(reviewID),\n",
    "    PRIMARY KEY (reviewerID, reviewID)\n",
    ");"
   ]
  },
  {
   "cell_type": "markdown",
   "id": "80f02a6d",
   "metadata": {},
   "source": [
    "#### Competition"
   ]
  },
  {
   "cell_type": "code",
   "execution_count": 10,
   "id": "9b08c670",
   "metadata": {},
   "outputs": [
    {
     "name": "stdout",
     "output_type": "stream",
     "text": [
      " * sqlite:///Research-Grant-Council-Database.db\n",
      "Done.\n"
     ]
    },
    {
     "data": {
      "text/plain": [
       "[]"
      ]
     },
     "execution_count": 10,
     "metadata": {},
     "output_type": "execute_result"
    }
   ],
   "source": [
    "%%sql\n",
    "\n",
    "CREATE TABLE IF NOT EXISTS Competition (\n",
    "    competitionID INTEGER PRIMARY KEY,\n",
    "    area VARCHAR(50) NOT NULL,\n",
    "    title VARCHAR(100) NOT NULL,\n",
    "    deadline DATE NOT NULL,\n",
    "    description TEXT NOT NULL,\n",
    "    status VARCHAR(20) NOT NULL CHECK(status IN ('open', 'closed')),\n",
    "    meetingID INTEGER,\n",
    "    FOREIGN KEY (meetingID) REFERENCES Meeting(meetingID)\n",
    ");"
   ]
  },
  {
   "cell_type": "markdown",
   "id": "558f9a75",
   "metadata": {},
   "source": [
    "#### Meeting "
   ]
  },
  {
   "cell_type": "code",
   "execution_count": 11,
   "id": "9566aa71",
   "metadata": {},
   "outputs": [
    {
     "name": "stdout",
     "output_type": "stream",
     "text": [
      " * sqlite:///Research-Grant-Council-Database.db\n",
      "Done.\n"
     ]
    },
    {
     "data": {
      "text/plain": [
       "[]"
      ]
     },
     "execution_count": 11,
     "metadata": {},
     "output_type": "execute_result"
    }
   ],
   "source": [
    "%%sql\n",
    "\n",
    "CREATE TABLE IF NOT EXISTS Meeting (\n",
    "    meetingID INTEGER PRIMARY KEY,\n",
    "    date DATE NOT NULL\n",
    ");"
   ]
  },
  {
   "cell_type": "markdown",
   "id": "580e5e2f",
   "metadata": {},
   "source": [
    "### Populate Researcher"
   ]
  },
  {
   "cell_type": "code",
   "execution_count": 43,
   "id": "7666a3d1",
   "metadata": {},
   "outputs": [
    {
     "name": "stdout",
     "output_type": "stream",
     "text": [
      " * sqlite:///Research-Grant-Council-Database.db\n"
     ]
    },
    {
     "ename": "IntegrityError",
     "evalue": "(sqlite3.IntegrityError) UNIQUE constraint failed: Researcher.researcherID\n[SQL: INSERT INTO Researcher VALUES (361492, \"Stacy\", \"Berman\", \"jovan.hetting@hotmail.com\", \"University of California, Los Angeles\"), \n(512565, \"Dennis\", \"Vall\", \"mabel1987@yahoo.ca\", \"University Texas Austin\"),\n(580915, \"Mary\", \"Jones\", \"greta19962017@gmail.com\", \"University of Oklahoma\"),\n(641662, \"Patsy\", \"Chisholm\", \"PatsyLChisholm@teleworm.us\", \"University of Washington\"),\n(360929, \"Caroline\", \"Campunzano\", \"andreanne1993@hotmail.com\", \"University of Oregon\"),\n(215246, \"Everett\", \"Victor\", \"arjun2003@hotmail.com\", \"University of Pennsylvania\"),\n(907845, \"Deborah\",\" Butea\", \"chase.schul@gmail.com\", \"Princeton University\"),\n(202583, \"Sid\", \"Jewell\", \"wilhelm1990@hotmail.com\", \"Harvard University\"),\n(330225, \"Marueen\", \"Miles\", \"karelle.muell@yahoo.com\", \"Standford Universty\"),\n(978476, \"Walter\", \"Nightingale\", \"clark1996@yahoo.com\", \"Massachusetts Institute of Technology\"),\n(354694, \"Randolph\", \"Gibson\", \"sonia_nikola@hotmail.com\", \"Yale University\"),\n(678990, \"Josh\", \"Peters\", \"joshpeters13@hotmail.com\", \"McGill University\"),\n(443175, \"Karen\", \"Rogers\", \"karenrogers7653@gmail.com\", \"University of British Columbia\"),\n(439214, \"Peggy\", \"Letson\", \"peggyletson19@gmail.com\", \"University of Toronto\"),\n(312309, \"Lanson\", \"Wong\", \"lansonwong43@gmail.com\", \"University of Alberta\"),\n(543839, \"Wilson\", \"Yung\", \"wilsonyung4930@hotmail.com\", \"University of Waterloo\"),\n(124456, \"Anson\", \"Chow\", \"ansonchow3941@gmail.com\", \"University of Saskatchewan\"),\n(232474, \"Cayden\", \"Leong\", \"caydenleong74@yahoo.com\", \"University of Ottawa\"),\n(312356, \"Miriam\", \"Kim\", \"miriamkim2341@gmail.com\", \"University of Guelph\");]\n(Background on this error at: https://sqlalche.me/e/14/gkpj)",
     "output_type": "error",
     "traceback": [
      "\u001b[0;31m---------------------------------------------------------------------------\u001b[0m",
      "\u001b[0;31mIntegrityError\u001b[0m                            Traceback (most recent call last)",
      "File \u001b[0;32m~/anaconda3/lib/python3.11/site-packages/sqlalchemy/engine/base.py:1819\u001b[0m, in \u001b[0;36mConnection._execute_context\u001b[0;34m(self, dialect, constructor, statement, parameters, execution_options, *args, **kw)\u001b[0m\n\u001b[1;32m   1818\u001b[0m     \u001b[38;5;28;01mif\u001b[39;00m \u001b[38;5;129;01mnot\u001b[39;00m evt_handled:\n\u001b[0;32m-> 1819\u001b[0m         \u001b[38;5;28mself\u001b[39m\u001b[38;5;241m.\u001b[39mdialect\u001b[38;5;241m.\u001b[39mdo_execute(\n\u001b[1;32m   1820\u001b[0m             cursor, statement, parameters, context\n\u001b[1;32m   1821\u001b[0m         )\n\u001b[1;32m   1823\u001b[0m \u001b[38;5;28;01mif\u001b[39;00m \u001b[38;5;28mself\u001b[39m\u001b[38;5;241m.\u001b[39m_has_events \u001b[38;5;129;01mor\u001b[39;00m \u001b[38;5;28mself\u001b[39m\u001b[38;5;241m.\u001b[39mengine\u001b[38;5;241m.\u001b[39m_has_events:\n",
      "File \u001b[0;32m~/anaconda3/lib/python3.11/site-packages/sqlalchemy/engine/default.py:732\u001b[0m, in \u001b[0;36mDefaultDialect.do_execute\u001b[0;34m(self, cursor, statement, parameters, context)\u001b[0m\n\u001b[1;32m    731\u001b[0m \u001b[38;5;28;01mdef\u001b[39;00m \u001b[38;5;21mdo_execute\u001b[39m(\u001b[38;5;28mself\u001b[39m, cursor, statement, parameters, context\u001b[38;5;241m=\u001b[39m\u001b[38;5;28;01mNone\u001b[39;00m):\n\u001b[0;32m--> 732\u001b[0m     cursor\u001b[38;5;241m.\u001b[39mexecute(statement, parameters)\n",
      "\u001b[0;31mIntegrityError\u001b[0m: UNIQUE constraint failed: Researcher.researcherID",
      "\nThe above exception was the direct cause of the following exception:\n",
      "\u001b[0;31mIntegrityError\u001b[0m                            Traceback (most recent call last)",
      "Cell \u001b[0;32mIn[43], line 1\u001b[0m\n\u001b[0;32m----> 1\u001b[0m get_ipython()\u001b[38;5;241m.\u001b[39mrun_cell_magic(\u001b[38;5;124m'\u001b[39m\u001b[38;5;124msql\u001b[39m\u001b[38;5;124m'\u001b[39m, \u001b[38;5;124m'\u001b[39m\u001b[38;5;124m'\u001b[39m, \u001b[38;5;124m'\u001b[39m\u001b[38;5;124mINSERT INTO Researcher VALUES (361492, \u001b[39m\u001b[38;5;124m\"\u001b[39m\u001b[38;5;124mStacy\u001b[39m\u001b[38;5;124m\"\u001b[39m\u001b[38;5;124m, \u001b[39m\u001b[38;5;124m\"\u001b[39m\u001b[38;5;124mBerman\u001b[39m\u001b[38;5;124m\"\u001b[39m\u001b[38;5;124m, \u001b[39m\u001b[38;5;124m\"\u001b[39m\u001b[38;5;124mjovan.hetting@hotmail.com\u001b[39m\u001b[38;5;124m\"\u001b[39m\u001b[38;5;124m, \u001b[39m\u001b[38;5;124m\"\u001b[39m\u001b[38;5;124mUniversity of California, Los Angeles\u001b[39m\u001b[38;5;124m\"\u001b[39m\u001b[38;5;124m), \u001b[39m\u001b[38;5;130;01m\\n\u001b[39;00m\u001b[38;5;124m(512565, \u001b[39m\u001b[38;5;124m\"\u001b[39m\u001b[38;5;124mDennis\u001b[39m\u001b[38;5;124m\"\u001b[39m\u001b[38;5;124m, \u001b[39m\u001b[38;5;124m\"\u001b[39m\u001b[38;5;124mVall\u001b[39m\u001b[38;5;124m\"\u001b[39m\u001b[38;5;124m, \u001b[39m\u001b[38;5;124m\"\u001b[39m\u001b[38;5;124mmabel1987@yahoo.ca\u001b[39m\u001b[38;5;124m\"\u001b[39m\u001b[38;5;124m, \u001b[39m\u001b[38;5;124m\"\u001b[39m\u001b[38;5;124mUniversity Texas Austin\u001b[39m\u001b[38;5;124m\"\u001b[39m\u001b[38;5;124m),\u001b[39m\u001b[38;5;130;01m\\n\u001b[39;00m\u001b[38;5;124m(580915, \u001b[39m\u001b[38;5;124m\"\u001b[39m\u001b[38;5;124mMary\u001b[39m\u001b[38;5;124m\"\u001b[39m\u001b[38;5;124m, \u001b[39m\u001b[38;5;124m\"\u001b[39m\u001b[38;5;124mJones\u001b[39m\u001b[38;5;124m\"\u001b[39m\u001b[38;5;124m, \u001b[39m\u001b[38;5;124m\"\u001b[39m\u001b[38;5;124mgreta19962017@gmail.com\u001b[39m\u001b[38;5;124m\"\u001b[39m\u001b[38;5;124m, \u001b[39m\u001b[38;5;124m\"\u001b[39m\u001b[38;5;124mUniversity of Oklahoma\u001b[39m\u001b[38;5;124m\"\u001b[39m\u001b[38;5;124m),\u001b[39m\u001b[38;5;130;01m\\n\u001b[39;00m\u001b[38;5;124m(641662, \u001b[39m\u001b[38;5;124m\"\u001b[39m\u001b[38;5;124mPatsy\u001b[39m\u001b[38;5;124m\"\u001b[39m\u001b[38;5;124m, \u001b[39m\u001b[38;5;124m\"\u001b[39m\u001b[38;5;124mChisholm\u001b[39m\u001b[38;5;124m\"\u001b[39m\u001b[38;5;124m, \u001b[39m\u001b[38;5;124m\"\u001b[39m\u001b[38;5;124mPatsyLChisholm@teleworm.us\u001b[39m\u001b[38;5;124m\"\u001b[39m\u001b[38;5;124m, \u001b[39m\u001b[38;5;124m\"\u001b[39m\u001b[38;5;124mUniversity of Washington\u001b[39m\u001b[38;5;124m\"\u001b[39m\u001b[38;5;124m),\u001b[39m\u001b[38;5;130;01m\\n\u001b[39;00m\u001b[38;5;124m(360929, \u001b[39m\u001b[38;5;124m\"\u001b[39m\u001b[38;5;124mCaroline\u001b[39m\u001b[38;5;124m\"\u001b[39m\u001b[38;5;124m, \u001b[39m\u001b[38;5;124m\"\u001b[39m\u001b[38;5;124mCampunzano\u001b[39m\u001b[38;5;124m\"\u001b[39m\u001b[38;5;124m, \u001b[39m\u001b[38;5;124m\"\u001b[39m\u001b[38;5;124mandreanne1993@hotmail.com\u001b[39m\u001b[38;5;124m\"\u001b[39m\u001b[38;5;124m, \u001b[39m\u001b[38;5;124m\"\u001b[39m\u001b[38;5;124mUniversity of Oregon\u001b[39m\u001b[38;5;124m\"\u001b[39m\u001b[38;5;124m),\u001b[39m\u001b[38;5;130;01m\\n\u001b[39;00m\u001b[38;5;124m(215246, \u001b[39m\u001b[38;5;124m\"\u001b[39m\u001b[38;5;124mEverett\u001b[39m\u001b[38;5;124m\"\u001b[39m\u001b[38;5;124m, \u001b[39m\u001b[38;5;124m\"\u001b[39m\u001b[38;5;124mVictor\u001b[39m\u001b[38;5;124m\"\u001b[39m\u001b[38;5;124m, \u001b[39m\u001b[38;5;124m\"\u001b[39m\u001b[38;5;124marjun2003@hotmail.com\u001b[39m\u001b[38;5;124m\"\u001b[39m\u001b[38;5;124m, \u001b[39m\u001b[38;5;124m\"\u001b[39m\u001b[38;5;124mUniversity of Pennsylvania\u001b[39m\u001b[38;5;124m\"\u001b[39m\u001b[38;5;124m),\u001b[39m\u001b[38;5;130;01m\\n\u001b[39;00m\u001b[38;5;124m(907845, \u001b[39m\u001b[38;5;124m\"\u001b[39m\u001b[38;5;124mDeborah\u001b[39m\u001b[38;5;124m\"\u001b[39m\u001b[38;5;124m,\u001b[39m\u001b[38;5;124m\"\u001b[39m\u001b[38;5;124m Butea\u001b[39m\u001b[38;5;124m\"\u001b[39m\u001b[38;5;124m, \u001b[39m\u001b[38;5;124m\"\u001b[39m\u001b[38;5;124mchase.schul@gmail.com\u001b[39m\u001b[38;5;124m\"\u001b[39m\u001b[38;5;124m, \u001b[39m\u001b[38;5;124m\"\u001b[39m\u001b[38;5;124mPrinceton University\u001b[39m\u001b[38;5;124m\"\u001b[39m\u001b[38;5;124m),\u001b[39m\u001b[38;5;130;01m\\n\u001b[39;00m\u001b[38;5;124m(202583, \u001b[39m\u001b[38;5;124m\"\u001b[39m\u001b[38;5;124mSid\u001b[39m\u001b[38;5;124m\"\u001b[39m\u001b[38;5;124m, \u001b[39m\u001b[38;5;124m\"\u001b[39m\u001b[38;5;124mJewell\u001b[39m\u001b[38;5;124m\"\u001b[39m\u001b[38;5;124m, \u001b[39m\u001b[38;5;124m\"\u001b[39m\u001b[38;5;124mwilhelm1990@hotmail.com\u001b[39m\u001b[38;5;124m\"\u001b[39m\u001b[38;5;124m, \u001b[39m\u001b[38;5;124m\"\u001b[39m\u001b[38;5;124mHarvard University\u001b[39m\u001b[38;5;124m\"\u001b[39m\u001b[38;5;124m),\u001b[39m\u001b[38;5;130;01m\\n\u001b[39;00m\u001b[38;5;124m(330225, \u001b[39m\u001b[38;5;124m\"\u001b[39m\u001b[38;5;124mMarueen\u001b[39m\u001b[38;5;124m\"\u001b[39m\u001b[38;5;124m, \u001b[39m\u001b[38;5;124m\"\u001b[39m\u001b[38;5;124mMiles\u001b[39m\u001b[38;5;124m\"\u001b[39m\u001b[38;5;124m, \u001b[39m\u001b[38;5;124m\"\u001b[39m\u001b[38;5;124mkarelle.muell@yahoo.com\u001b[39m\u001b[38;5;124m\"\u001b[39m\u001b[38;5;124m, \u001b[39m\u001b[38;5;124m\"\u001b[39m\u001b[38;5;124mStandford Universty\u001b[39m\u001b[38;5;124m\"\u001b[39m\u001b[38;5;124m),\u001b[39m\u001b[38;5;130;01m\\n\u001b[39;00m\u001b[38;5;124m(978476, \u001b[39m\u001b[38;5;124m\"\u001b[39m\u001b[38;5;124mWalter\u001b[39m\u001b[38;5;124m\"\u001b[39m\u001b[38;5;124m, \u001b[39m\u001b[38;5;124m\"\u001b[39m\u001b[38;5;124mNightingale\u001b[39m\u001b[38;5;124m\"\u001b[39m\u001b[38;5;124m, \u001b[39m\u001b[38;5;124m\"\u001b[39m\u001b[38;5;124mclark1996@yahoo.com\u001b[39m\u001b[38;5;124m\"\u001b[39m\u001b[38;5;124m, \u001b[39m\u001b[38;5;124m\"\u001b[39m\u001b[38;5;124mMassachusetts Institute of Technology\u001b[39m\u001b[38;5;124m\"\u001b[39m\u001b[38;5;124m),\u001b[39m\u001b[38;5;130;01m\\n\u001b[39;00m\u001b[38;5;124m(354694, \u001b[39m\u001b[38;5;124m\"\u001b[39m\u001b[38;5;124mRandolph\u001b[39m\u001b[38;5;124m\"\u001b[39m\u001b[38;5;124m, \u001b[39m\u001b[38;5;124m\"\u001b[39m\u001b[38;5;124mGibson\u001b[39m\u001b[38;5;124m\"\u001b[39m\u001b[38;5;124m, \u001b[39m\u001b[38;5;124m\"\u001b[39m\u001b[38;5;124msonia_nikola@hotmail.com\u001b[39m\u001b[38;5;124m\"\u001b[39m\u001b[38;5;124m, \u001b[39m\u001b[38;5;124m\"\u001b[39m\u001b[38;5;124mYale University\u001b[39m\u001b[38;5;124m\"\u001b[39m\u001b[38;5;124m),\u001b[39m\u001b[38;5;130;01m\\n\u001b[39;00m\u001b[38;5;124m(678990, \u001b[39m\u001b[38;5;124m\"\u001b[39m\u001b[38;5;124mJosh\u001b[39m\u001b[38;5;124m\"\u001b[39m\u001b[38;5;124m, \u001b[39m\u001b[38;5;124m\"\u001b[39m\u001b[38;5;124mPeters\u001b[39m\u001b[38;5;124m\"\u001b[39m\u001b[38;5;124m, \u001b[39m\u001b[38;5;124m\"\u001b[39m\u001b[38;5;124mjoshpeters13@hotmail.com\u001b[39m\u001b[38;5;124m\"\u001b[39m\u001b[38;5;124m, \u001b[39m\u001b[38;5;124m\"\u001b[39m\u001b[38;5;124mMcGill University\u001b[39m\u001b[38;5;124m\"\u001b[39m\u001b[38;5;124m),\u001b[39m\u001b[38;5;130;01m\\n\u001b[39;00m\u001b[38;5;124m(443175, \u001b[39m\u001b[38;5;124m\"\u001b[39m\u001b[38;5;124mKaren\u001b[39m\u001b[38;5;124m\"\u001b[39m\u001b[38;5;124m, \u001b[39m\u001b[38;5;124m\"\u001b[39m\u001b[38;5;124mRogers\u001b[39m\u001b[38;5;124m\"\u001b[39m\u001b[38;5;124m, \u001b[39m\u001b[38;5;124m\"\u001b[39m\u001b[38;5;124mkarenrogers7653@gmail.com\u001b[39m\u001b[38;5;124m\"\u001b[39m\u001b[38;5;124m, \u001b[39m\u001b[38;5;124m\"\u001b[39m\u001b[38;5;124mUniversity of British Columbia\u001b[39m\u001b[38;5;124m\"\u001b[39m\u001b[38;5;124m),\u001b[39m\u001b[38;5;130;01m\\n\u001b[39;00m\u001b[38;5;124m(439214, \u001b[39m\u001b[38;5;124m\"\u001b[39m\u001b[38;5;124mPeggy\u001b[39m\u001b[38;5;124m\"\u001b[39m\u001b[38;5;124m, \u001b[39m\u001b[38;5;124m\"\u001b[39m\u001b[38;5;124mLetson\u001b[39m\u001b[38;5;124m\"\u001b[39m\u001b[38;5;124m, \u001b[39m\u001b[38;5;124m\"\u001b[39m\u001b[38;5;124mpeggyletson19@gmail.com\u001b[39m\u001b[38;5;124m\"\u001b[39m\u001b[38;5;124m, \u001b[39m\u001b[38;5;124m\"\u001b[39m\u001b[38;5;124mUniversity of Toronto\u001b[39m\u001b[38;5;124m\"\u001b[39m\u001b[38;5;124m),\u001b[39m\u001b[38;5;130;01m\\n\u001b[39;00m\u001b[38;5;124m(312309, \u001b[39m\u001b[38;5;124m\"\u001b[39m\u001b[38;5;124mLanson\u001b[39m\u001b[38;5;124m\"\u001b[39m\u001b[38;5;124m, \u001b[39m\u001b[38;5;124m\"\u001b[39m\u001b[38;5;124mWong\u001b[39m\u001b[38;5;124m\"\u001b[39m\u001b[38;5;124m, \u001b[39m\u001b[38;5;124m\"\u001b[39m\u001b[38;5;124mlansonwong43@gmail.com\u001b[39m\u001b[38;5;124m\"\u001b[39m\u001b[38;5;124m, \u001b[39m\u001b[38;5;124m\"\u001b[39m\u001b[38;5;124mUniversity of Alberta\u001b[39m\u001b[38;5;124m\"\u001b[39m\u001b[38;5;124m),\u001b[39m\u001b[38;5;130;01m\\n\u001b[39;00m\u001b[38;5;124m(543839, \u001b[39m\u001b[38;5;124m\"\u001b[39m\u001b[38;5;124mWilson\u001b[39m\u001b[38;5;124m\"\u001b[39m\u001b[38;5;124m, \u001b[39m\u001b[38;5;124m\"\u001b[39m\u001b[38;5;124mYung\u001b[39m\u001b[38;5;124m\"\u001b[39m\u001b[38;5;124m, \u001b[39m\u001b[38;5;124m\"\u001b[39m\u001b[38;5;124mwilsonyung4930@hotmail.com\u001b[39m\u001b[38;5;124m\"\u001b[39m\u001b[38;5;124m, \u001b[39m\u001b[38;5;124m\"\u001b[39m\u001b[38;5;124mUniversity of Waterloo\u001b[39m\u001b[38;5;124m\"\u001b[39m\u001b[38;5;124m),\u001b[39m\u001b[38;5;130;01m\\n\u001b[39;00m\u001b[38;5;124m(124456, \u001b[39m\u001b[38;5;124m\"\u001b[39m\u001b[38;5;124mAnson\u001b[39m\u001b[38;5;124m\"\u001b[39m\u001b[38;5;124m, \u001b[39m\u001b[38;5;124m\"\u001b[39m\u001b[38;5;124mChow\u001b[39m\u001b[38;5;124m\"\u001b[39m\u001b[38;5;124m, \u001b[39m\u001b[38;5;124m\"\u001b[39m\u001b[38;5;124mansonchow3941@gmail.com\u001b[39m\u001b[38;5;124m\"\u001b[39m\u001b[38;5;124m, \u001b[39m\u001b[38;5;124m\"\u001b[39m\u001b[38;5;124mUniversity of Saskatchewan\u001b[39m\u001b[38;5;124m\"\u001b[39m\u001b[38;5;124m),\u001b[39m\u001b[38;5;130;01m\\n\u001b[39;00m\u001b[38;5;124m(232474, \u001b[39m\u001b[38;5;124m\"\u001b[39m\u001b[38;5;124mCayden\u001b[39m\u001b[38;5;124m\"\u001b[39m\u001b[38;5;124m, \u001b[39m\u001b[38;5;124m\"\u001b[39m\u001b[38;5;124mLeong\u001b[39m\u001b[38;5;124m\"\u001b[39m\u001b[38;5;124m, \u001b[39m\u001b[38;5;124m\"\u001b[39m\u001b[38;5;124mcaydenleong74@yahoo.com\u001b[39m\u001b[38;5;124m\"\u001b[39m\u001b[38;5;124m, \u001b[39m\u001b[38;5;124m\"\u001b[39m\u001b[38;5;124mUniversity of Ottawa\u001b[39m\u001b[38;5;124m\"\u001b[39m\u001b[38;5;124m),\u001b[39m\u001b[38;5;130;01m\\n\u001b[39;00m\u001b[38;5;124m(312356, \u001b[39m\u001b[38;5;124m\"\u001b[39m\u001b[38;5;124mMiriam\u001b[39m\u001b[38;5;124m\"\u001b[39m\u001b[38;5;124m, \u001b[39m\u001b[38;5;124m\"\u001b[39m\u001b[38;5;124mKim\u001b[39m\u001b[38;5;124m\"\u001b[39m\u001b[38;5;124m, \u001b[39m\u001b[38;5;124m\"\u001b[39m\u001b[38;5;124mmiriamkim2341@gmail.com\u001b[39m\u001b[38;5;124m\"\u001b[39m\u001b[38;5;124m, \u001b[39m\u001b[38;5;124m\"\u001b[39m\u001b[38;5;124mUniversity of Guelph\u001b[39m\u001b[38;5;124m\"\u001b[39m\u001b[38;5;124m);\u001b[39m\u001b[38;5;130;01m\\n\u001b[39;00m\u001b[38;5;124m'\u001b[39m)\n",
      "File \u001b[0;32m~/anaconda3/lib/python3.11/site-packages/IPython/core/interactiveshell.py:2493\u001b[0m, in \u001b[0;36mInteractiveShell.run_cell_magic\u001b[0;34m(self, magic_name, line, cell)\u001b[0m\n\u001b[1;32m   2491\u001b[0m \u001b[38;5;28;01mwith\u001b[39;00m \u001b[38;5;28mself\u001b[39m\u001b[38;5;241m.\u001b[39mbuiltin_trap:\n\u001b[1;32m   2492\u001b[0m     args \u001b[38;5;241m=\u001b[39m (magic_arg_s, cell)\n\u001b[0;32m-> 2493\u001b[0m     result \u001b[38;5;241m=\u001b[39m fn(\u001b[38;5;241m*\u001b[39margs, \u001b[38;5;241m*\u001b[39m\u001b[38;5;241m*\u001b[39mkwargs)\n\u001b[1;32m   2495\u001b[0m \u001b[38;5;66;03m# The code below prevents the output from being displayed\u001b[39;00m\n\u001b[1;32m   2496\u001b[0m \u001b[38;5;66;03m# when using magics with decorator @output_can_be_silenced\u001b[39;00m\n\u001b[1;32m   2497\u001b[0m \u001b[38;5;66;03m# when the last Python token in the expression is a ';'.\u001b[39;00m\n\u001b[1;32m   2498\u001b[0m \u001b[38;5;28;01mif\u001b[39;00m \u001b[38;5;28mgetattr\u001b[39m(fn, magic\u001b[38;5;241m.\u001b[39mMAGIC_OUTPUT_CAN_BE_SILENCED, \u001b[38;5;28;01mFalse\u001b[39;00m):\n",
      "File \u001b[0;32m~/anaconda3/lib/python3.11/site-packages/sql/magic.py:95\u001b[0m, in \u001b[0;36mSqlMagic.execute\u001b[0;34m(self, line, cell, local_ns)\u001b[0m\n\u001b[1;32m     92\u001b[0m     \u001b[38;5;28;01mreturn\u001b[39;00m \u001b[38;5;28mself\u001b[39m\u001b[38;5;241m.\u001b[39m_persist_dataframe(parsed[\u001b[38;5;124m'\u001b[39m\u001b[38;5;124msql\u001b[39m\u001b[38;5;124m'\u001b[39m], conn, user_ns)\n\u001b[1;32m     94\u001b[0m \u001b[38;5;28;01mtry\u001b[39;00m:\n\u001b[0;32m---> 95\u001b[0m     result \u001b[38;5;241m=\u001b[39m sql\u001b[38;5;241m.\u001b[39mrun\u001b[38;5;241m.\u001b[39mrun(conn, parsed[\u001b[38;5;124m'\u001b[39m\u001b[38;5;124msql\u001b[39m\u001b[38;5;124m'\u001b[39m], \u001b[38;5;28mself\u001b[39m, user_ns)\n\u001b[1;32m     97\u001b[0m     \u001b[38;5;28;01mif\u001b[39;00m result \u001b[38;5;129;01mis\u001b[39;00m \u001b[38;5;129;01mnot\u001b[39;00m \u001b[38;5;28;01mNone\u001b[39;00m \u001b[38;5;129;01mand\u001b[39;00m \u001b[38;5;129;01mnot\u001b[39;00m \u001b[38;5;28misinstance\u001b[39m(result, \u001b[38;5;28mstr\u001b[39m) \u001b[38;5;129;01mand\u001b[39;00m \u001b[38;5;28mself\u001b[39m\u001b[38;5;241m.\u001b[39mcolumn_local_vars:\n\u001b[1;32m     98\u001b[0m         \u001b[38;5;66;03m#Instead of returning values, set variables directly in the\u001b[39;00m\n\u001b[1;32m     99\u001b[0m         \u001b[38;5;66;03m#users namespace. Variable names given by column names\u001b[39;00m\n\u001b[1;32m    101\u001b[0m         \u001b[38;5;28;01mif\u001b[39;00m \u001b[38;5;28mself\u001b[39m\u001b[38;5;241m.\u001b[39mautopandas:\n",
      "File \u001b[0;32m~/anaconda3/lib/python3.11/site-packages/sql/run.py:340\u001b[0m, in \u001b[0;36mrun\u001b[0;34m(conn, sql, config, user_namespace)\u001b[0m\n\u001b[1;32m    338\u001b[0m \u001b[38;5;28;01melse\u001b[39;00m:\n\u001b[1;32m    339\u001b[0m     txt \u001b[38;5;241m=\u001b[39m sqlalchemy\u001b[38;5;241m.\u001b[39msql\u001b[38;5;241m.\u001b[39mtext(statement)\n\u001b[0;32m--> 340\u001b[0m     result \u001b[38;5;241m=\u001b[39m conn\u001b[38;5;241m.\u001b[39msession\u001b[38;5;241m.\u001b[39mexecute(txt, user_namespace)\n\u001b[1;32m    341\u001b[0m _commit(conn\u001b[38;5;241m=\u001b[39mconn, config\u001b[38;5;241m=\u001b[39mconfig)\n\u001b[1;32m    342\u001b[0m \u001b[38;5;28;01mif\u001b[39;00m result \u001b[38;5;129;01mand\u001b[39;00m config\u001b[38;5;241m.\u001b[39mfeedback:\n",
      "File \u001b[0;32m~/anaconda3/lib/python3.11/site-packages/sqlalchemy/engine/base.py:1306\u001b[0m, in \u001b[0;36mConnection.execute\u001b[0;34m(self, statement, *multiparams, **params)\u001b[0m\n\u001b[1;32m   1302\u001b[0m     util\u001b[38;5;241m.\u001b[39mraise_(\n\u001b[1;32m   1303\u001b[0m         exc\u001b[38;5;241m.\u001b[39mObjectNotExecutableError(statement), replace_context\u001b[38;5;241m=\u001b[39merr\n\u001b[1;32m   1304\u001b[0m     )\n\u001b[1;32m   1305\u001b[0m \u001b[38;5;28;01melse\u001b[39;00m:\n\u001b[0;32m-> 1306\u001b[0m     \u001b[38;5;28;01mreturn\u001b[39;00m meth(\u001b[38;5;28mself\u001b[39m, multiparams, params, _EMPTY_EXECUTION_OPTS)\n",
      "File \u001b[0;32m~/anaconda3/lib/python3.11/site-packages/sqlalchemy/sql/elements.py:332\u001b[0m, in \u001b[0;36mClauseElement._execute_on_connection\u001b[0;34m(self, connection, multiparams, params, execution_options, _force)\u001b[0m\n\u001b[1;32m    328\u001b[0m \u001b[38;5;28;01mdef\u001b[39;00m \u001b[38;5;21m_execute_on_connection\u001b[39m(\n\u001b[1;32m    329\u001b[0m     \u001b[38;5;28mself\u001b[39m, connection, multiparams, params, execution_options, _force\u001b[38;5;241m=\u001b[39m\u001b[38;5;28;01mFalse\u001b[39;00m\n\u001b[1;32m    330\u001b[0m ):\n\u001b[1;32m    331\u001b[0m     \u001b[38;5;28;01mif\u001b[39;00m _force \u001b[38;5;129;01mor\u001b[39;00m \u001b[38;5;28mself\u001b[39m\u001b[38;5;241m.\u001b[39msupports_execution:\n\u001b[0;32m--> 332\u001b[0m         \u001b[38;5;28;01mreturn\u001b[39;00m connection\u001b[38;5;241m.\u001b[39m_execute_clauseelement(\n\u001b[1;32m    333\u001b[0m             \u001b[38;5;28mself\u001b[39m, multiparams, params, execution_options\n\u001b[1;32m    334\u001b[0m         )\n\u001b[1;32m    335\u001b[0m     \u001b[38;5;28;01melse\u001b[39;00m:\n\u001b[1;32m    336\u001b[0m         \u001b[38;5;28;01mraise\u001b[39;00m exc\u001b[38;5;241m.\u001b[39mObjectNotExecutableError(\u001b[38;5;28mself\u001b[39m)\n",
      "File \u001b[0;32m~/anaconda3/lib/python3.11/site-packages/sqlalchemy/engine/base.py:1498\u001b[0m, in \u001b[0;36mConnection._execute_clauseelement\u001b[0;34m(self, elem, multiparams, params, execution_options)\u001b[0m\n\u001b[1;32m   1486\u001b[0m compiled_cache \u001b[38;5;241m=\u001b[39m execution_options\u001b[38;5;241m.\u001b[39mget(\n\u001b[1;32m   1487\u001b[0m     \u001b[38;5;124m\"\u001b[39m\u001b[38;5;124mcompiled_cache\u001b[39m\u001b[38;5;124m\"\u001b[39m, \u001b[38;5;28mself\u001b[39m\u001b[38;5;241m.\u001b[39mengine\u001b[38;5;241m.\u001b[39m_compiled_cache\n\u001b[1;32m   1488\u001b[0m )\n\u001b[1;32m   1490\u001b[0m compiled_sql, extracted_params, cache_hit \u001b[38;5;241m=\u001b[39m elem\u001b[38;5;241m.\u001b[39m_compile_w_cache(\n\u001b[1;32m   1491\u001b[0m     dialect\u001b[38;5;241m=\u001b[39mdialect,\n\u001b[1;32m   1492\u001b[0m     compiled_cache\u001b[38;5;241m=\u001b[39mcompiled_cache,\n\u001b[0;32m   (...)\u001b[0m\n\u001b[1;32m   1496\u001b[0m     linting\u001b[38;5;241m=\u001b[39m\u001b[38;5;28mself\u001b[39m\u001b[38;5;241m.\u001b[39mdialect\u001b[38;5;241m.\u001b[39mcompiler_linting \u001b[38;5;241m|\u001b[39m compiler\u001b[38;5;241m.\u001b[39mWARN_LINTING,\n\u001b[1;32m   1497\u001b[0m )\n\u001b[0;32m-> 1498\u001b[0m ret \u001b[38;5;241m=\u001b[39m \u001b[38;5;28mself\u001b[39m\u001b[38;5;241m.\u001b[39m_execute_context(\n\u001b[1;32m   1499\u001b[0m     dialect,\n\u001b[1;32m   1500\u001b[0m     dialect\u001b[38;5;241m.\u001b[39mexecution_ctx_cls\u001b[38;5;241m.\u001b[39m_init_compiled,\n\u001b[1;32m   1501\u001b[0m     compiled_sql,\n\u001b[1;32m   1502\u001b[0m     distilled_params,\n\u001b[1;32m   1503\u001b[0m     execution_options,\n\u001b[1;32m   1504\u001b[0m     compiled_sql,\n\u001b[1;32m   1505\u001b[0m     distilled_params,\n\u001b[1;32m   1506\u001b[0m     elem,\n\u001b[1;32m   1507\u001b[0m     extracted_params,\n\u001b[1;32m   1508\u001b[0m     cache_hit\u001b[38;5;241m=\u001b[39mcache_hit,\n\u001b[1;32m   1509\u001b[0m )\n\u001b[1;32m   1510\u001b[0m \u001b[38;5;28;01mif\u001b[39;00m has_events:\n\u001b[1;32m   1511\u001b[0m     \u001b[38;5;28mself\u001b[39m\u001b[38;5;241m.\u001b[39mdispatch\u001b[38;5;241m.\u001b[39mafter_execute(\n\u001b[1;32m   1512\u001b[0m         \u001b[38;5;28mself\u001b[39m,\n\u001b[1;32m   1513\u001b[0m         elem,\n\u001b[0;32m   (...)\u001b[0m\n\u001b[1;32m   1517\u001b[0m         ret,\n\u001b[1;32m   1518\u001b[0m     )\n",
      "File \u001b[0;32m~/anaconda3/lib/python3.11/site-packages/sqlalchemy/engine/base.py:1862\u001b[0m, in \u001b[0;36mConnection._execute_context\u001b[0;34m(self, dialect, constructor, statement, parameters, execution_options, *args, **kw)\u001b[0m\n\u001b[1;32m   1859\u001b[0m             branched\u001b[38;5;241m.\u001b[39mclose()\n\u001b[1;32m   1861\u001b[0m \u001b[38;5;28;01mexcept\u001b[39;00m \u001b[38;5;167;01mBaseException\u001b[39;00m \u001b[38;5;28;01mas\u001b[39;00m e:\n\u001b[0;32m-> 1862\u001b[0m     \u001b[38;5;28mself\u001b[39m\u001b[38;5;241m.\u001b[39m_handle_dbapi_exception(\n\u001b[1;32m   1863\u001b[0m         e, statement, parameters, cursor, context\n\u001b[1;32m   1864\u001b[0m     )\n\u001b[1;32m   1866\u001b[0m \u001b[38;5;28;01mreturn\u001b[39;00m result\n",
      "File \u001b[0;32m~/anaconda3/lib/python3.11/site-packages/sqlalchemy/engine/base.py:2043\u001b[0m, in \u001b[0;36mConnection._handle_dbapi_exception\u001b[0;34m(self, e, statement, parameters, cursor, context)\u001b[0m\n\u001b[1;32m   2041\u001b[0m     util\u001b[38;5;241m.\u001b[39mraise_(newraise, with_traceback\u001b[38;5;241m=\u001b[39mexc_info[\u001b[38;5;241m2\u001b[39m], from_\u001b[38;5;241m=\u001b[39me)\n\u001b[1;32m   2042\u001b[0m \u001b[38;5;28;01melif\u001b[39;00m should_wrap:\n\u001b[0;32m-> 2043\u001b[0m     util\u001b[38;5;241m.\u001b[39mraise_(\n\u001b[1;32m   2044\u001b[0m         sqlalchemy_exception, with_traceback\u001b[38;5;241m=\u001b[39mexc_info[\u001b[38;5;241m2\u001b[39m], from_\u001b[38;5;241m=\u001b[39me\n\u001b[1;32m   2045\u001b[0m     )\n\u001b[1;32m   2046\u001b[0m \u001b[38;5;28;01melse\u001b[39;00m:\n\u001b[1;32m   2047\u001b[0m     util\u001b[38;5;241m.\u001b[39mraise_(exc_info[\u001b[38;5;241m1\u001b[39m], with_traceback\u001b[38;5;241m=\u001b[39mexc_info[\u001b[38;5;241m2\u001b[39m])\n",
      "File \u001b[0;32m~/anaconda3/lib/python3.11/site-packages/sqlalchemy/util/compat.py:208\u001b[0m, in \u001b[0;36mraise_\u001b[0;34m(***failed resolving arguments***)\u001b[0m\n\u001b[1;32m    205\u001b[0m     exception\u001b[38;5;241m.\u001b[39m__cause__ \u001b[38;5;241m=\u001b[39m replace_context\n\u001b[1;32m    207\u001b[0m \u001b[38;5;28;01mtry\u001b[39;00m:\n\u001b[0;32m--> 208\u001b[0m     \u001b[38;5;28;01mraise\u001b[39;00m exception\n\u001b[1;32m    209\u001b[0m \u001b[38;5;28;01mfinally\u001b[39;00m:\n\u001b[1;32m    210\u001b[0m     \u001b[38;5;66;03m# credit to\u001b[39;00m\n\u001b[1;32m    211\u001b[0m     \u001b[38;5;66;03m# https://cosmicpercolator.com/2016/01/13/exception-leaks-in-python-2-and-3/\u001b[39;00m\n\u001b[1;32m    212\u001b[0m     \u001b[38;5;66;03m# as the __traceback__ object creates a cycle\u001b[39;00m\n\u001b[1;32m    213\u001b[0m     \u001b[38;5;28;01mdel\u001b[39;00m exception, replace_context, from_, with_traceback\n",
      "File \u001b[0;32m~/anaconda3/lib/python3.11/site-packages/sqlalchemy/engine/base.py:1819\u001b[0m, in \u001b[0;36mConnection._execute_context\u001b[0;34m(self, dialect, constructor, statement, parameters, execution_options, *args, **kw)\u001b[0m\n\u001b[1;32m   1817\u001b[0m                 \u001b[38;5;28;01mbreak\u001b[39;00m\n\u001b[1;32m   1818\u001b[0m     \u001b[38;5;28;01mif\u001b[39;00m \u001b[38;5;129;01mnot\u001b[39;00m evt_handled:\n\u001b[0;32m-> 1819\u001b[0m         \u001b[38;5;28mself\u001b[39m\u001b[38;5;241m.\u001b[39mdialect\u001b[38;5;241m.\u001b[39mdo_execute(\n\u001b[1;32m   1820\u001b[0m             cursor, statement, parameters, context\n\u001b[1;32m   1821\u001b[0m         )\n\u001b[1;32m   1823\u001b[0m \u001b[38;5;28;01mif\u001b[39;00m \u001b[38;5;28mself\u001b[39m\u001b[38;5;241m.\u001b[39m_has_events \u001b[38;5;129;01mor\u001b[39;00m \u001b[38;5;28mself\u001b[39m\u001b[38;5;241m.\u001b[39mengine\u001b[38;5;241m.\u001b[39m_has_events:\n\u001b[1;32m   1824\u001b[0m     \u001b[38;5;28mself\u001b[39m\u001b[38;5;241m.\u001b[39mdispatch\u001b[38;5;241m.\u001b[39mafter_cursor_execute(\n\u001b[1;32m   1825\u001b[0m         \u001b[38;5;28mself\u001b[39m,\n\u001b[1;32m   1826\u001b[0m         cursor,\n\u001b[0;32m   (...)\u001b[0m\n\u001b[1;32m   1830\u001b[0m         context\u001b[38;5;241m.\u001b[39mexecutemany,\n\u001b[1;32m   1831\u001b[0m     )\n",
      "File \u001b[0;32m~/anaconda3/lib/python3.11/site-packages/sqlalchemy/engine/default.py:732\u001b[0m, in \u001b[0;36mDefaultDialect.do_execute\u001b[0;34m(self, cursor, statement, parameters, context)\u001b[0m\n\u001b[1;32m    731\u001b[0m \u001b[38;5;28;01mdef\u001b[39;00m \u001b[38;5;21mdo_execute\u001b[39m(\u001b[38;5;28mself\u001b[39m, cursor, statement, parameters, context\u001b[38;5;241m=\u001b[39m\u001b[38;5;28;01mNone\u001b[39;00m):\n\u001b[0;32m--> 732\u001b[0m     cursor\u001b[38;5;241m.\u001b[39mexecute(statement, parameters)\n",
      "\u001b[0;31mIntegrityError\u001b[0m: (sqlite3.IntegrityError) UNIQUE constraint failed: Researcher.researcherID\n[SQL: INSERT INTO Researcher VALUES (361492, \"Stacy\", \"Berman\", \"jovan.hetting@hotmail.com\", \"University of California, Los Angeles\"), \n(512565, \"Dennis\", \"Vall\", \"mabel1987@yahoo.ca\", \"University Texas Austin\"),\n(580915, \"Mary\", \"Jones\", \"greta19962017@gmail.com\", \"University of Oklahoma\"),\n(641662, \"Patsy\", \"Chisholm\", \"PatsyLChisholm@teleworm.us\", \"University of Washington\"),\n(360929, \"Caroline\", \"Campunzano\", \"andreanne1993@hotmail.com\", \"University of Oregon\"),\n(215246, \"Everett\", \"Victor\", \"arjun2003@hotmail.com\", \"University of Pennsylvania\"),\n(907845, \"Deborah\",\" Butea\", \"chase.schul@gmail.com\", \"Princeton University\"),\n(202583, \"Sid\", \"Jewell\", \"wilhelm1990@hotmail.com\", \"Harvard University\"),\n(330225, \"Marueen\", \"Miles\", \"karelle.muell@yahoo.com\", \"Standford Universty\"),\n(978476, \"Walter\", \"Nightingale\", \"clark1996@yahoo.com\", \"Massachusetts Institute of Technology\"),\n(354694, \"Randolph\", \"Gibson\", \"sonia_nikola@hotmail.com\", \"Yale University\"),\n(678990, \"Josh\", \"Peters\", \"joshpeters13@hotmail.com\", \"McGill University\"),\n(443175, \"Karen\", \"Rogers\", \"karenrogers7653@gmail.com\", \"University of British Columbia\"),\n(439214, \"Peggy\", \"Letson\", \"peggyletson19@gmail.com\", \"University of Toronto\"),\n(312309, \"Lanson\", \"Wong\", \"lansonwong43@gmail.com\", \"University of Alberta\"),\n(543839, \"Wilson\", \"Yung\", \"wilsonyung4930@hotmail.com\", \"University of Waterloo\"),\n(124456, \"Anson\", \"Chow\", \"ansonchow3941@gmail.com\", \"University of Saskatchewan\"),\n(232474, \"Cayden\", \"Leong\", \"caydenleong74@yahoo.com\", \"University of Ottawa\"),\n(312356, \"Miriam\", \"Kim\", \"miriamkim2341@gmail.com\", \"University of Guelph\");]\n(Background on this error at: https://sqlalche.me/e/14/gkpj)"
     ]
    }
   ],
   "source": [
    "%%sql\n",
    "INSERT INTO Researcher VALUES (361492, \"Stacy\", \"Berman\", \"jovan.hetting@hotmail.com\", \"University of California, Los Angeles\"), \n",
    "(512565, \"Dennis\", \"Vall\", \"mabel1987@yahoo.ca\", \"University Texas Austin\"),\n",
    "(580915, \"Mary\", \"Jones\", \"greta19962017@gmail.com\", \"University of Oklahoma\"),\n",
    "(641662, \"Patsy\", \"Chisholm\", \"PatsyLChisholm@teleworm.us\", \"University of Washington\"),\n",
    "(360929, \"Caroline\", \"Campunzano\", \"andreanne1993@hotmail.com\", \"University of Oregon\"),\n",
    "(215246, \"Everett\", \"Victor\", \"arjun2003@hotmail.com\", \"University of Pennsylvania\"),\n",
    "(907845, \"Deborah\",\" Butea\", \"chase.schul@gmail.com\", \"Princeton University\"),\n",
    "(202583, \"Sid\", \"Jewell\", \"wilhelm1990@hotmail.com\", \"Harvard University\"),\n",
    "(330225, \"Marueen\", \"Miles\", \"karelle.muell@yahoo.com\", \"Standford Universty\"),\n",
    "(978476, \"Walter\", \"Nightingale\", \"clark1996@yahoo.com\", \"Massachusetts Institute of Technology\"),\n",
    "(354694, \"Randolph\", \"Gibson\", \"sonia_nikola@hotmail.com\", \"Yale University\"),\n",
    "(678990, \"Josh\", \"Peters\", \"joshpeters13@hotmail.com\", \"McGill University\"),\n",
    "(443175, \"Karen\", \"Rogers\", \"karenrogers7653@gmail.com\", \"University of British Columbia\"),\n",
    "(439214, \"Peggy\", \"Letson\", \"peggyletson19@gmail.com\", \"University of Toronto\"),\n",
    "(312309, \"Lanson\", \"Wong\", \"lansonwong43@gmail.com\", \"University of Alberta\"),\n",
    "(543839, \"Wilson\", \"Yung\", \"wilsonyung4930@hotmail.com\", \"University of Waterloo\"),\n",
    "(124456, \"Anson\", \"Chow\", \"ansonchow3941@gmail.com\", \"University of Saskatchewan\"),\n",
    "(232474, \"Cayden\", \"Leong\", \"caydenleong74@yahoo.com\", \"University of Ottawa\"),\n",
    "(312356, \"Miriam\", \"Kim\", \"miriamkim2341@gmail.com\", \"University of Guelph\");"
   ]
  },
  {
   "cell_type": "markdown",
   "id": "85e08ab0",
   "metadata": {},
   "source": [
    "### Populate Proposal"
   ]
  },
  {
   "cell_type": "code",
   "execution_count": 45,
   "id": "13aab8ad",
   "metadata": {},
   "outputs": [
    {
     "name": "stdout",
     "output_type": "stream",
     "text": [
      " * sqlite:///Research-Grant-Council-Database.db\n",
      "(sqlite3.OperationalError) table Proposal has 4 columns but 6 values were supplied\n",
      "[SQL: INSERT INTO Proposal VALUES (4123,5000,5000,'awarded',361492,312),\n",
      "(6781,15000,15000,'awarded',512565,126),\n",
      "(2314,2500,1000,'awarded',580915,512),\n",
      "(4921,25000,25000,'awarded',641662,678),\n",
      "(3109,1500,2500,'awarded',360929,889),\n",
      "(9021,10000,5000,'awarded',215246,100),\n",
      "(8912,10000,10000,'awarded',907845,192),\n",
      "(1235,7000,0,'submitted',202583,567),\n",
      "(6753,5000,0,'not awarded',330225,214),\n",
      "(5567,30000,0,'not awarded',978476,987);]\n",
      "(Background on this error at: https://sqlalche.me/e/14/e3q8)\n"
     ]
    }
   ],
   "source": [
    "%%sql\n",
    "INSERT INTO Proposal VALUES (4123,5000,5000,'awarded',361492,312),\n",
    "(6781,15000,15000,'awarded',512565,126),\n",
    "(2314,2500,1000,'awarded',580915,512),\n",
    "(4921,25000,25000,'awarded',641662,678),\n",
    "(3109,1500,2500,'awarded',360929,889),\n",
    "(9021,10000,5000,'awarded',215246,100),\n",
    "(8912,10000,10000,'awarded',907845,192),\n",
    "(1235,7000,0,'submitted',202583,567),\n",
    "(6753,5000,0,'not awarded',330225,214),\n",
    "(5567,30000,0,'not awarded',978476,987);"
   ]
  },
  {
   "cell_type": "markdown",
   "id": "f772d92d",
   "metadata": {},
   "source": [
    "### Populate "
   ]
  },
  {
   "cell_type": "code",
   "execution_count": 46,
   "id": "41e34de4",
   "metadata": {},
   "outputs": [
    {
     "name": "stdout",
     "output_type": "stream",
     "text": [
      " * sqlite:///Research-Grant-Council-Database.db\n",
      "Done.\n"
     ]
    },
    {
     "data": {
      "text/html": [
       "<table>\n",
       "    <thead>\n",
       "        <tr>\n",
       "            <th>proposalID</th>\n",
       "            <th>requestedAmount</th>\n",
       "            <th>awardedAmount</th>\n",
       "            <th>status</th>\n",
       "        </tr>\n",
       "    </thead>\n",
       "    <tbody>\n",
       "    </tbody>\n",
       "</table>"
      ],
      "text/plain": [
       "[]"
      ]
     },
     "execution_count": 46,
     "metadata": {},
     "output_type": "execute_result"
    }
   ],
   "source": [
    "%%sql\n",
    "SELECT * FROM Proposal"
   ]
  },
  {
   "cell_type": "code",
   "execution_count": null,
   "id": "8056eaee",
   "metadata": {},
   "outputs": [],
   "source": []
  }
 ],
 "metadata": {
  "kernelspec": {
   "display_name": "Python 3 (ipykernel)",
   "language": "python",
   "name": "python3"
  },
  "language_info": {
   "codemirror_mode": {
    "name": "ipython",
    "version": 3
   },
   "file_extension": ".py",
   "mimetype": "text/x-python",
   "name": "python",
   "nbconvert_exporter": "python",
   "pygments_lexer": "ipython3",
   "version": "3.11.5"
  },
  "vscode": {
   "interpreter": {
    "hash": "31f2aee4e71d21fbe5cf8b01ff0e069b9275f58929596ceb00d14d90e3e16cd6"
   }
  }
 },
 "nbformat": 4,
 "nbformat_minor": 5
}
