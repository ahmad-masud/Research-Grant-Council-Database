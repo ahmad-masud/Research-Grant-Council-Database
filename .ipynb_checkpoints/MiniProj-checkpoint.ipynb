{
 "cells": [
  {
   "cell_type": "markdown",
   "id": "49dafa41",
   "metadata": {},
   "source": [
    "# Research Grant Council Database"
   ]
  },
  {
   "cell_type": "markdown",
   "id": "1b3996f5",
   "metadata": {},
   "source": [
    "## ER Diagram\n",
    "![Entity Relationship Diagram](resources/erd.png)"
   ]
  },
  {
   "cell_type": "markdown",
   "id": "9a4a7a9b",
   "metadata": {},
   "source": [
    "## SQL Schema\n",
    "\n",
    "- Researcher = {<span style=\"text-decoration:underline\">researcherID</span>, firstName, lastName, email, institution}\n",
    "- Proposal = {<span style=\"text-decoration:underline\">proposalID</span>, requestedAmount, awardedAmount, status}\n",
    "- Review = {<span style=\"text-decoration:underline\">reviewID</span>, status, deadline}\n",
    "- Reviewer = {<span style=\"text-decoration:underline\">reviewerID</span>, firstName, lastName}\n",
    "- Assignment = {<span style=\"text-decoration:underline\">reviewerID</span><span><sup>FK-Reviewer</sup>, <span style=\"text-decoration:underline\">reviewID</span><span><sup>FK-Review</sup>}\n",
    "- Competition = {<span style=\"text-decoration:underline\">competitionID</span>, area, title, deadline, description, status}\n",
    "- Meeting = {<span style=\"text-decoration:underline\">meetingID</span>, date}"
   ]
  },
  {
   "cell_type": "markdown",
   "id": "31b60c82",
   "metadata": {},
   "source": [
    "## SQL Code"
   ]
  },
  {
   "cell_type": "markdown",
   "id": "7f59ad0e",
   "metadata": {},
   "source": [
    "### Execute the next two cells"
   ]
  },
  {
   "cell_type": "code",
   "execution_count": 5,
   "id": "ace16202",
   "metadata": {},
   "outputs": [],
   "source": [
    "%load_ext sql"
   ]
  },
  {
   "cell_type": "code",
   "execution_count": 6,
   "id": "7bd5d817",
   "metadata": {},
   "outputs": [
    {
     "data": {
      "text/plain": [
       "'Connected: @Research-Grant-Council-Database.db'"
      ]
     },
     "execution_count": 6,
     "metadata": {},
     "output_type": "execute_result"
    }
   ],
   "source": [
    "%sql sqlite:///Research-Grant-Council-Database.db"
   ]
  },
  {
   "cell_type": "markdown",
   "id": "5fec473f",
   "metadata": {},
   "source": [
    "### Relation Queries"
   ]
  },
  {
   "cell_type": "markdown",
   "id": "a55ed965",
   "metadata": {},
   "source": [
    "#### Researcher"
   ]
  },
  {
   "cell_type": "code",
   "execution_count": 7,
   "id": "72bf64eb",
   "metadata": {},
   "outputs": [
    {
     "name": "stderr",
     "output_type": "stream",
     "text": [
      "UsageError: %%sql is a cell magic, but the cell body is empty. Did you mean the line magic %sql (single %)?\n"
     ]
    }
   ],
   "source": [
    "%%sql\n",
    "\n"
   ]
  },
  {
   "cell_type": "code",
   "execution_count": null,
   "id": "b97517fa",
   "metadata": {},
   "outputs": [],
   "source": []
  }
 ],
 "metadata": {
  "kernelspec": {
   "display_name": "Python 3 (ipykernel)",
   "language": "python",
   "name": "python3"
  },
  "language_info": {
   "codemirror_mode": {
    "name": "ipython",
    "version": 3
   },
   "file_extension": ".py",
   "mimetype": "text/x-python",
   "name": "python",
   "nbconvert_exporter": "python",
   "pygments_lexer": "ipython3",
   "version": "3.11.5"
  }
 },
 "nbformat": 4,
 "nbformat_minor": 5
}
